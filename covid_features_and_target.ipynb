{
 "cells": [
  {
   "cell_type": "code",
   "execution_count": 4,
   "metadata": {},
   "outputs": [],
   "source": [
    "import pandas as pd\n",
    "import numpy as np\n",
    "\n",
    "import matplotlib.pyplot as plt\n",
    "import seaborn as sns"
   ]
  },
  {
   "cell_type": "code",
   "execution_count": 2,
   "metadata": {},
   "outputs": [],
   "source": [
    "pd.options.display.max_columns = 999\n",
    "pd.options.display.max_rows = 999"
   ]
  },
  {
   "cell_type": "code",
   "execution_count": 3,
   "metadata": {},
   "outputs": [],
   "source": [
    "df_cases = pd.read_csv('raw_data/covid_cases.csv')\n",
    "df_deaths = pd.read_csv('raw_data/covid_deaths.csv')\n",
    "beds = pd.read_csv('raw_data/bed_data.csv')\n",
    "pop = pd.read_csv('raw_data/covid_county_population.csv')\n",
    "cvd_dat = pd.read_csv('raw_data/state_covid_data.csv')"
   ]
  },
  {
   "cell_type": "markdown",
   "metadata": {},
   "source": [
    "# County Population Data"
   ]
  },
  {
   "cell_type": "code",
   "execution_count": null,
   "metadata": {},
   "outputs": [],
   "source": [
    "pop.drop('State', axis=1, inplace=True)"
   ]
  },
  {
   "cell_type": "code",
   "execution_count": null,
   "metadata": {},
   "outputs": [],
   "source": [
    "pop = pop[pop['County Name'] != 'Statewide Unallocated']\n",
    "df_cases = df_cases[df_cases['County Name'] != 'Statewide Unallocated']\n",
    "df_deaths = df_deaths[df_deaths['County Name'] != 'Statewide Unallocated']"
   ]
  },
  {
   "cell_type": "markdown",
   "metadata": {},
   "source": [
    "# Beds dataframe"
   ]
  },
  {
   "cell_type": "code",
   "execution_count": 8,
   "metadata": {},
   "outputs": [],
   "source": [
    "beds.drop(['State/Local Government', 'Non-Profit', 'For-Profit'], axis=1, inplace=True )"
   ]
  },
  {
   "cell_type": "code",
   "execution_count": 9,
   "metadata": {},
   "outputs": [],
   "source": [
    "beds['Beds per Person'] = beds.Total / 1000"
   ]
  },
  {
   "cell_type": "code",
   "execution_count": 10,
   "metadata": {},
   "outputs": [],
   "source": [
    "beds.drop(0, inplace=True)"
   ]
  },
  {
   "cell_type": "code",
   "execution_count": 11,
   "metadata": {},
   "outputs": [],
   "source": [
    "# dictionary for state names because some data sets use abreviations, some use full state names\n",
    "\n",
    "states = {\n",
    "        'AK': 'Alaska',\n",
    "        'AL': 'Alabama',\n",
    "        'AR': 'Arkansas',\n",
    "        'AS': 'American Samoa',\n",
    "        'AZ': 'Arizona',\n",
    "        'CA': 'California',\n",
    "        'CO': 'Colorado',\n",
    "        'CT': 'Connecticut',\n",
    "        'DC': 'District of Columbia',\n",
    "        'DE': 'Delaware',\n",
    "        'FL': 'Florida',\n",
    "        'GA': 'Georgia',\n",
    "        'GU': 'Guam',\n",
    "        'HI': 'Hawaii',\n",
    "        'IA': 'Iowa',\n",
    "        'ID': 'Idaho',\n",
    "        'IL': 'Illinois',\n",
    "        'IN': 'Indiana',\n",
    "        'KS': 'Kansas',\n",
    "        'KY': 'Kentucky',\n",
    "        'LA': 'Louisiana',\n",
    "        'MA': 'Massachusetts',\n",
    "        'MD': 'Maryland',\n",
    "        'ME': 'Maine',\n",
    "        'MI': 'Michigan',\n",
    "        'MN': 'Minnesota',\n",
    "        'MO': 'Missouri',\n",
    "        'MP': 'Northern Mariana Islands',\n",
    "        'MS': 'Mississippi',\n",
    "        'MT': 'Montana',\n",
    "        'NA': 'National',\n",
    "        'NC': 'North Carolina',\n",
    "        'ND': 'North Dakota',\n",
    "        'NE': 'Nebraska',\n",
    "        'NH': 'New Hampshire',\n",
    "        'NJ': 'New Jersey',\n",
    "        'NM': 'New Mexico',\n",
    "        'NV': 'Nevada',\n",
    "        'NY': 'New York',\n",
    "        'OH': 'Ohio',\n",
    "        'OK': 'Oklahoma',\n",
    "        'OR': 'Oregon',\n",
    "        'PA': 'Pennsylvania',\n",
    "        'PR': 'Puerto Rico',\n",
    "        'RI': 'Rhode Island',\n",
    "        'SC': 'South Carolina',\n",
    "        'SD': 'South Dakota',\n",
    "        'TN': 'Tennessee',\n",
    "        'TX': 'Texas',\n",
    "        'UT': 'Utah',\n",
    "        'VA': 'Virginia',\n",
    "        'VI': 'Virgin Islands',\n",
    "        'VT': 'Vermont',\n",
    "        'WA': 'Washington',\n",
    "        'WI': 'Wisconsin',\n",
    "        'WV': 'West Virginia',\n",
    "        'WY': 'Wyoming'}"
   ]
  },
  {
   "cell_type": "markdown",
   "metadata": {},
   "source": [
    "# Covid-19 Features"
   ]
  },
  {
   "cell_type": "code",
   "execution_count": 12,
   "metadata": {},
   "outputs": [],
   "source": [
    "# obtain data up until the \"target cutoff,\" which is the last two weeks\n",
    "\n",
    "cases_small = df_cases.loc[:, :'4/21/20']\n",
    "deaths_small = df_deaths.loc[:, :'4/21/20']"
   ]
  },
  {
   "cell_type": "code",
   "execution_count": 13,
   "metadata": {},
   "outputs": [],
   "source": [
    "# couting the number of days since the first case and the first death in each county, this will be used as a feature\n",
    "\n",
    "cases_small['Days since case1'] = cases_small.astype(bool).sum(axis=1) - 4\n",
    "deaths_small['Days since death1'] = deaths_small.astype(bool).sum(axis=1) - 4  # don't include first four cols"
   ]
  },
  {
   "cell_type": "code",
   "execution_count": 14,
   "metadata": {},
   "outputs": [],
   "source": [
    "# in terms of collecting features, we only want these columns right now\n",
    "\n",
    "cases_small = cases_small[['countyFIPS', 'County Name', 'State', '4/21/20', 'Days since case1']]\n",
    "deaths_small = deaths_small[['countyFIPS', 'County Name', 'State', '4/21/20', 'Days since death1']]"
   ]
  },
  {
   "cell_type": "code",
   "execution_count": 15,
   "metadata": {},
   "outputs": [],
   "source": [
    "# renaming the date column\n",
    "\n",
    "cases_small.columns = ['countyFIPS', 'County Name', 'State', 'Total_cases', 'Days since case1']\n",
    "deaths_small.columns = ['countyFIPS', 'County Name', 'State', 'Total_deaths', 'Days since death1']"
   ]
  },
  {
   "cell_type": "code",
   "execution_count": 16,
   "metadata": {},
   "outputs": [],
   "source": [
    "# renaming the states column to merge with the beds dataframe\n",
    "\n",
    "cases_small.State = cases_small.State.apply(lambda x: states[x])\n",
    "deaths_small.State = deaths_small.State.apply(lambda x: states[x])"
   ]
  },
  {
   "cell_type": "code",
   "execution_count": 17,
   "metadata": {},
   "outputs": [],
   "source": [
    "# merging table to include the county beds data\n",
    "\n",
    "cases_small = cases_small.merge(beds, left_on='State', right_on='Location')\n",
    "deaths_small = deaths_small.merge(beds, left_on='State', right_on='Location')"
   ]
  },
  {
   "cell_type": "code",
   "execution_count": 18,
   "metadata": {},
   "outputs": [],
   "source": [
    "# dropping cols we don't need\n",
    "\n",
    "cases_small.drop(['Location', 'Total'], axis=1, inplace=True)\n",
    "deaths_small.drop(['Location', 'Total'], axis=1, inplace=True)"
   ]
  },
  {
   "cell_type": "code",
   "execution_count": 19,
   "metadata": {},
   "outputs": [],
   "source": [
    "# merging the county population data into the dataframe\n",
    "\n",
    "cases_small = cases_small.merge(pop, left_on='countyFIPS', right_on='countyFIPS')\n",
    "deaths_small = deaths_small.merge(pop, left_on='countyFIPS', right_on='countyFIPS')"
   ]
  },
  {
   "cell_type": "code",
   "execution_count": 20,
   "metadata": {},
   "outputs": [],
   "source": [
    "# converting the beds per person column into total beds per county\n",
    "\n",
    "cases_small['County_beds'] = cases_small['Beds per Person'] * cases_small.population\n",
    "deaths_small['County_beds'] = deaths_small['Beds per Person'] * deaths_small.population"
   ]
  },
  {
   "cell_type": "code",
   "execution_count": 21,
   "metadata": {},
   "outputs": [],
   "source": [
    "# converting total beds per county into an integer\n",
    "\n",
    "cases_small['County_beds'] = cases_small['County_beds'].apply(int)\n",
    "deaths_small['County_beds'] = deaths_small['County_beds'].apply(int)"
   ]
  },
  {
   "cell_type": "code",
   "execution_count": 22,
   "metadata": {},
   "outputs": [],
   "source": [
    "# dropping cols we do not need\n",
    "\n",
    "cases_small.drop(['Beds per Person', 'County Name_y'], axis=1, inplace=True )\n",
    "deaths_small.drop(['Beds per Person', 'County Name_y'], axis=1, inplace=True )"
   ]
  },
  {
   "cell_type": "code",
   "execution_count": 23,
   "metadata": {},
   "outputs": [],
   "source": [
    "# reducing the deaths df to only the cols we need\n",
    "\n",
    "deaths_small.drop(['County Name_x', 'State', 'population', 'County_beds'], axis=1, inplace=True)"
   ]
  },
  {
   "cell_type": "code",
   "execution_count": 24,
   "metadata": {},
   "outputs": [],
   "source": [
    "# merging the cases df with the deaths df columns\n",
    "\n",
    "covid_features = cases_small.merge(deaths_small, left_on='countyFIPS', right_on='countyFIPS')"
   ]
  },
  {
   "cell_type": "code",
   "execution_count": 26,
   "metadata": {},
   "outputs": [],
   "source": [
    "# cleaning up the column names\n",
    "\n",
    "covid_features.columns = ['countyFIPS', 'County Name', 'State', 'Total_cases',\n",
    "       'Days since case1', 'population', 'County_beds', 'Total_deaths',\n",
    "       'Days since death1']"
   ]
  },
  {
   "cell_type": "code",
   "execution_count": 28,
   "metadata": {},
   "outputs": [],
   "source": [
    "# setting and applying the column order\n",
    "\n",
    "col_ord = ['countyFIPS', 'County Name', 'State', 'population','County_beds', 'Total_cases', 'Total_deaths',\n",
    "           'Days since case1', 'Days since death1']"
   ]
  },
  {
   "cell_type": "code",
   "execution_count": 29,
   "metadata": {},
   "outputs": [],
   "source": [
    "covid_features = covid_features[col_ord]"
   ]
  },
  {
   "cell_type": "markdown",
   "metadata": {},
   "source": [
    "## Adding more Covid-19 data"
   ]
  },
  {
   "cell_type": "code",
   "execution_count": 31,
   "metadata": {},
   "outputs": [
    {
     "data": {
      "text/html": [
       "<div>\n",
       "<style scoped>\n",
       "    .dataframe tbody tr th:only-of-type {\n",
       "        vertical-align: middle;\n",
       "    }\n",
       "\n",
       "    .dataframe tbody tr th {\n",
       "        vertical-align: top;\n",
       "    }\n",
       "\n",
       "    .dataframe thead th {\n",
       "        text-align: right;\n",
       "    }\n",
       "</style>\n",
       "<table border=\"1\" class=\"dataframe\">\n",
       "  <thead>\n",
       "    <tr style=\"text-align: right;\">\n",
       "      <th></th>\n",
       "      <th>Province_State</th>\n",
       "      <th>Confirmed</th>\n",
       "      <th>Deaths</th>\n",
       "      <th>Recovered</th>\n",
       "      <th>Active</th>\n",
       "      <th>Incident_Rate</th>\n",
       "      <th>People_Tested</th>\n",
       "      <th>People_Hospitalized</th>\n",
       "      <th>Mortality_Rate</th>\n",
       "      <th>Testing_Rate</th>\n",
       "      <th>Hospitalization_Rate</th>\n",
       "    </tr>\n",
       "  </thead>\n",
       "  <tbody>\n",
       "    <tr>\n",
       "      <th>0</th>\n",
       "      <td>Alabama</td>\n",
       "      <td>4888</td>\n",
       "      <td>157</td>\n",
       "      <td>NaN</td>\n",
       "      <td>4731.0</td>\n",
       "      <td>104.246265</td>\n",
       "      <td>45712.0</td>\n",
       "      <td>641.0</td>\n",
       "      <td>3.211948</td>\n",
       "      <td>974.898788</td>\n",
       "      <td>13.113748</td>\n",
       "    </tr>\n",
       "    <tr>\n",
       "      <th>1</th>\n",
       "      <td>Alaska</td>\n",
       "      <td>319</td>\n",
       "      <td>9</td>\n",
       "      <td>153.0</td>\n",
       "      <td>310.0</td>\n",
       "      <td>53.366881</td>\n",
       "      <td>9895.0</td>\n",
       "      <td>37.0</td>\n",
       "      <td>2.821317</td>\n",
       "      <td>1655.377090</td>\n",
       "      <td>11.598746</td>\n",
       "    </tr>\n",
       "    <tr>\n",
       "      <th>2</th>\n",
       "      <td>American Samoa</td>\n",
       "      <td>0</td>\n",
       "      <td>0</td>\n",
       "      <td>NaN</td>\n",
       "      <td>NaN</td>\n",
       "      <td>0.000000</td>\n",
       "      <td>3.0</td>\n",
       "      <td>NaN</td>\n",
       "      <td>NaN</td>\n",
       "      <td>5.391708</td>\n",
       "      <td>NaN</td>\n",
       "    </tr>\n",
       "    <tr>\n",
       "      <th>3</th>\n",
       "      <td>Arizona</td>\n",
       "      <td>4933</td>\n",
       "      <td>184</td>\n",
       "      <td>994.0</td>\n",
       "      <td>4749.0</td>\n",
       "      <td>67.772933</td>\n",
       "      <td>52990.0</td>\n",
       "      <td>631.0</td>\n",
       "      <td>3.729982</td>\n",
       "      <td>728.012918</td>\n",
       "      <td>12.791405</td>\n",
       "    </tr>\n",
       "    <tr>\n",
       "      <th>4</th>\n",
       "      <td>Arkansas</td>\n",
       "      <td>1781</td>\n",
       "      <td>39</td>\n",
       "      <td>721.0</td>\n",
       "      <td>1742.0</td>\n",
       "      <td>68.790322</td>\n",
       "      <td>24209.0</td>\n",
       "      <td>291.0</td>\n",
       "      <td>2.189781</td>\n",
       "      <td>935.061705</td>\n",
       "      <td>16.339135</td>\n",
       "    </tr>\n",
       "  </tbody>\n",
       "</table>\n",
       "</div>"
      ],
      "text/plain": [
       "   Province_State  Confirmed  Deaths  Recovered  Active  Incident_Rate  \\\n",
       "0         Alabama       4888     157        NaN  4731.0     104.246265   \n",
       "1          Alaska        319       9      153.0   310.0      53.366881   \n",
       "2  American Samoa          0       0        NaN     NaN       0.000000   \n",
       "3         Arizona       4933     184      994.0  4749.0      67.772933   \n",
       "4        Arkansas       1781      39      721.0  1742.0      68.790322   \n",
       "\n",
       "   People_Tested  People_Hospitalized  Mortality_Rate  Testing_Rate  \\\n",
       "0        45712.0                641.0        3.211948    974.898788   \n",
       "1         9895.0                 37.0        2.821317   1655.377090   \n",
       "2            3.0                  NaN             NaN      5.391708   \n",
       "3        52990.0                631.0        3.729982    728.012918   \n",
       "4        24209.0                291.0        2.189781    935.061705   \n",
       "\n",
       "   Hospitalization_Rate  \n",
       "0             13.113748  \n",
       "1             11.598746  \n",
       "2                   NaN  \n",
       "3             12.791405  \n",
       "4             16.339135  "
      ]
     },
     "execution_count": 31,
     "metadata": {},
     "output_type": "execute_result"
    }
   ],
   "source": [
    "# additional covid-19 data about hospitalizations and testing rates\n",
    "\n",
    "cvd_dat.head()"
   ]
  },
  {
   "cell_type": "code",
   "execution_count": 32,
   "metadata": {},
   "outputs": [],
   "source": [
    "# columns from this df which we need\n",
    "\n",
    "cvd_dat = cvd_dat[['Province_State', 'People_Hospitalized', 'Testing_Rate']]"
   ]
  },
  {
   "cell_type": "code",
   "execution_count": 33,
   "metadata": {},
   "outputs": [
    {
     "data": {
      "text/html": [
       "<div>\n",
       "<style scoped>\n",
       "    .dataframe tbody tr th:only-of-type {\n",
       "        vertical-align: middle;\n",
       "    }\n",
       "\n",
       "    .dataframe tbody tr th {\n",
       "        vertical-align: top;\n",
       "    }\n",
       "\n",
       "    .dataframe thead th {\n",
       "        text-align: right;\n",
       "    }\n",
       "</style>\n",
       "<table border=\"1\" class=\"dataframe\">\n",
       "  <thead>\n",
       "    <tr style=\"text-align: right;\">\n",
       "      <th></th>\n",
       "      <th>Province_State</th>\n",
       "      <th>People_Hospitalized</th>\n",
       "      <th>Testing_Rate</th>\n",
       "    </tr>\n",
       "  </thead>\n",
       "  <tbody>\n",
       "    <tr>\n",
       "      <th>0</th>\n",
       "      <td>Alabama</td>\n",
       "      <td>641.0</td>\n",
       "      <td>974.898788</td>\n",
       "    </tr>\n",
       "    <tr>\n",
       "      <th>1</th>\n",
       "      <td>Alaska</td>\n",
       "      <td>37.0</td>\n",
       "      <td>1655.377090</td>\n",
       "    </tr>\n",
       "    <tr>\n",
       "      <th>2</th>\n",
       "      <td>American Samoa</td>\n",
       "      <td>NaN</td>\n",
       "      <td>5.391708</td>\n",
       "    </tr>\n",
       "    <tr>\n",
       "      <th>3</th>\n",
       "      <td>Arizona</td>\n",
       "      <td>631.0</td>\n",
       "      <td>728.012918</td>\n",
       "    </tr>\n",
       "    <tr>\n",
       "      <th>4</th>\n",
       "      <td>Arkansas</td>\n",
       "      <td>291.0</td>\n",
       "      <td>935.061705</td>\n",
       "    </tr>\n",
       "  </tbody>\n",
       "</table>\n",
       "</div>"
      ],
      "text/plain": [
       "   Province_State  People_Hospitalized  Testing_Rate\n",
       "0         Alabama                641.0    974.898788\n",
       "1          Alaska                 37.0   1655.377090\n",
       "2  American Samoa                  NaN      5.391708\n",
       "3         Arizona                631.0    728.012918\n",
       "4        Arkansas                291.0    935.061705"
      ]
     },
     "execution_count": 33,
     "metadata": {},
     "output_type": "execute_result"
    }
   ],
   "source": [
    "cvd_dat.head()"
   ]
  },
  {
   "cell_type": "code",
   "execution_count": 34,
   "metadata": {},
   "outputs": [],
   "source": [
    "# merging in the additional features to our covid table\n",
    "\n",
    "covid_features = covid_features.merge(cvd_dat, left_on='State', right_on='Province_State')"
   ]
  },
  {
   "cell_type": "code",
   "execution_count": 35,
   "metadata": {},
   "outputs": [],
   "source": [
    "# converting hospitalizations and testing rates to be proportional to the county size\n",
    "\n",
    "covid_features['County_hospitalizations'] = (covid_features.People_Hospitalized / covid_features.population)*covid_features.Total_cases\n",
    "\n",
    "covid_features['County_testing_rate'] =  covid_features.Testing_Rate / covid_features.population\n"
   ]
  },
  {
   "cell_type": "code",
   "execution_count": 36,
   "metadata": {},
   "outputs": [],
   "source": [
    "# dropping the original columns (statewide data)\n",
    "\n",
    "covid_features.drop(['Province_State', 'Testing_Rate', 'People_Hospitalized'], axis=1, inplace=True)"
   ]
  },
  {
   "cell_type": "code",
   "execution_count": 37,
   "metadata": {},
   "outputs": [],
   "source": [
    "# somehow I still had entries with population zero?\n",
    "\n",
    "covid_features = covid_features[covid_features.population != 0]"
   ]
  },
  {
   "cell_type": "code",
   "execution_count": 110,
   "metadata": {},
   "outputs": [
    {
     "data": {
      "text/html": [
       "<div>\n",
       "<style scoped>\n",
       "    .dataframe tbody tr th:only-of-type {\n",
       "        vertical-align: middle;\n",
       "    }\n",
       "\n",
       "    .dataframe tbody tr th {\n",
       "        vertical-align: top;\n",
       "    }\n",
       "\n",
       "    .dataframe thead th {\n",
       "        text-align: right;\n",
       "    }\n",
       "</style>\n",
       "<table border=\"1\" class=\"dataframe\">\n",
       "  <thead>\n",
       "    <tr style=\"text-align: right;\">\n",
       "      <th></th>\n",
       "      <th>countyFIPS</th>\n",
       "      <th>County Name</th>\n",
       "      <th>State</th>\n",
       "      <th>population</th>\n",
       "      <th>County_beds</th>\n",
       "      <th>Total_cases</th>\n",
       "      <th>Total_deaths</th>\n",
       "      <th>Days since case1</th>\n",
       "      <th>Days since death1</th>\n",
       "      <th>County_hospitalizations</th>\n",
       "      <th>County_testing_rate</th>\n",
       "      <th>cases_wk_before</th>\n",
       "      <th>deaths_wk_before</th>\n",
       "      <th>pcnt_inc_wk11</th>\n",
       "      <th>pcnt_inc_wk12</th>\n",
       "      <th>pcnt_inc_wk13</th>\n",
       "    </tr>\n",
       "  </thead>\n",
       "  <tbody>\n",
       "    <tr>\n",
       "      <th>0</th>\n",
       "      <td>1001</td>\n",
       "      <td>Autauga County</td>\n",
       "      <td>Alabama</td>\n",
       "      <td>55869</td>\n",
       "      <td>173</td>\n",
       "      <td>30</td>\n",
       "      <td>1</td>\n",
       "      <td>29</td>\n",
       "      <td>14</td>\n",
       "      <td>0.344198</td>\n",
       "      <td>0.017450</td>\n",
       "      <td>0.0</td>\n",
       "      <td>7.0</td>\n",
       "      <td>0.714286</td>\n",
       "      <td>0.916667</td>\n",
       "      <td>0.304348</td>\n",
       "    </tr>\n",
       "    <tr>\n",
       "      <th>1</th>\n",
       "      <td>1003</td>\n",
       "      <td>Baldwin County</td>\n",
       "      <td>Alabama</td>\n",
       "      <td>223234</td>\n",
       "      <td>692</td>\n",
       "      <td>123</td>\n",
       "      <td>2</td>\n",
       "      <td>39</td>\n",
       "      <td>4</td>\n",
       "      <td>0.353185</td>\n",
       "      <td>0.004367</td>\n",
       "      <td>2.0</td>\n",
       "      <td>36.0</td>\n",
       "      <td>1.210526</td>\n",
       "      <td>1.071429</td>\n",
       "      <td>0.413793</td>\n",
       "    </tr>\n",
       "    <tr>\n",
       "      <th>2</th>\n",
       "      <td>1005</td>\n",
       "      <td>Barbour County</td>\n",
       "      <td>Alabama</td>\n",
       "      <td>24686</td>\n",
       "      <td>76</td>\n",
       "      <td>28</td>\n",
       "      <td>0</td>\n",
       "      <td>19</td>\n",
       "      <td>0</td>\n",
       "      <td>0.727052</td>\n",
       "      <td>0.039492</td>\n",
       "      <td>0.0</td>\n",
       "      <td>17.0</td>\n",
       "      <td>1.500000</td>\n",
       "      <td>2.666667</td>\n",
       "      <td>1.545455</td>\n",
       "    </tr>\n",
       "    <tr>\n",
       "      <th>3</th>\n",
       "      <td>1007</td>\n",
       "      <td>Bibb County</td>\n",
       "      <td>Alabama</td>\n",
       "      <td>22394</td>\n",
       "      <td>69</td>\n",
       "      <td>32</td>\n",
       "      <td>0</td>\n",
       "      <td>23</td>\n",
       "      <td>0</td>\n",
       "      <td>0.915960</td>\n",
       "      <td>0.043534</td>\n",
       "      <td>0.0</td>\n",
       "      <td>15.0</td>\n",
       "      <td>1.666667</td>\n",
       "      <td>1.125000</td>\n",
       "      <td>0.882353</td>\n",
       "    </tr>\n",
       "    <tr>\n",
       "      <th>4</th>\n",
       "      <td>1009</td>\n",
       "      <td>Blount County</td>\n",
       "      <td>Alabama</td>\n",
       "      <td>57826</td>\n",
       "      <td>179</td>\n",
       "      <td>26</td>\n",
       "      <td>0</td>\n",
       "      <td>28</td>\n",
       "      <td>0</td>\n",
       "      <td>0.288209</td>\n",
       "      <td>0.016859</td>\n",
       "      <td>0.0</td>\n",
       "      <td>10.0</td>\n",
       "      <td>1.000000</td>\n",
       "      <td>0.600000</td>\n",
       "      <td>0.625000</td>\n",
       "    </tr>\n",
       "  </tbody>\n",
       "</table>\n",
       "</div>"
      ],
      "text/plain": [
       "   countyFIPS     County Name    State  population  County_beds  Total_cases  \\\n",
       "0        1001  Autauga County  Alabama       55869          173           30   \n",
       "1        1003  Baldwin County  Alabama      223234          692          123   \n",
       "2        1005  Barbour County  Alabama       24686           76           28   \n",
       "3        1007     Bibb County  Alabama       22394           69           32   \n",
       "4        1009   Blount County  Alabama       57826          179           26   \n",
       "\n",
       "   Total_deaths  Days since case1  Days since death1  County_hospitalizations  \\\n",
       "0             1                29                 14                 0.344198   \n",
       "1             2                39                  4                 0.353185   \n",
       "2             0                19                  0                 0.727052   \n",
       "3             0                23                  0                 0.915960   \n",
       "4             0                28                  0                 0.288209   \n",
       "\n",
       "   County_testing_rate  cases_wk_before  deaths_wk_before  pcnt_inc_wk11  \\\n",
       "0             0.017450              0.0               7.0       0.714286   \n",
       "1             0.004367              2.0              36.0       1.210526   \n",
       "2             0.039492              0.0              17.0       1.500000   \n",
       "3             0.043534              0.0              15.0       1.666667   \n",
       "4             0.016859              0.0              10.0       1.000000   \n",
       "\n",
       "   pcnt_inc_wk12  pcnt_inc_wk13  \n",
       "0       0.916667       0.304348  \n",
       "1       1.071429       0.413793  \n",
       "2       2.666667       1.545455  \n",
       "3       1.125000       0.882353  \n",
       "4       0.600000       0.625000  "
      ]
     },
     "execution_count": 110,
     "metadata": {},
     "output_type": "execute_result"
    }
   ],
   "source": [
    "covid_features.head()"
   ]
  },
  {
   "cell_type": "markdown",
   "metadata": {},
   "source": [
    "# Cases and Deaths by Week"
   ]
  },
  {
   "cell_type": "markdown",
   "metadata": {},
   "source": [
    "## Cases and deaths before April 22"
   ]
  },
  {
   "cell_type": "code",
   "execution_count": 39,
   "metadata": {},
   "outputs": [],
   "source": [
    "# obtains cases and deaths on a week by week basis  (not including categorical columns)\n",
    "\n",
    "weekly_cases = df_cases.iloc[:,4:].diff(axis=1).groupby((np.arange(len(df_cases.columns[4:])) // 7) + 1, axis=1).sum().add_prefix('Week_')\n",
    "weekly_deaths = df_deaths.iloc[:,4:].diff(axis=1).groupby((np.arange(len(df_deaths.columns[4:])) // 7) + 1, axis=1).sum().add_prefix('Week_')\n"
   ]
  },
  {
   "cell_type": "code",
   "execution_count": 40,
   "metadata": {},
   "outputs": [],
   "source": [
    "# separate dataframe that tracks total cases on a week by week basis, which will be used to find percentage increases\n",
    "\n",
    "cumulative_cases = weekly_cases.cumsum(axis=1)\n",
    "cumulative_deaths = weekly_deaths.cumsum(axis=1)"
   ]
  },
  {
   "cell_type": "code",
   "execution_count": 41,
   "metadata": {},
   "outputs": [],
   "source": [
    "# adding in the categorical columns so the eventual merge will be possible\n",
    "\n",
    "weekly_cases['County'] = df_cases['County Name']\n",
    "weekly_cases['State'] = df_cases['State']\n",
    "weekly_cases['countyFIPS'] = df_cases['countyFIPS']\n",
    "\n",
    "weekly_deaths['County'] = df_deaths['County Name']\n",
    "weekly_deaths['State'] = df_deaths['State']\n",
    "weekly_deaths['countyFIPS'] = df_deaths['countyFIPS']"
   ]
  },
  {
   "cell_type": "code",
   "execution_count": 45,
   "metadata": {},
   "outputs": [],
   "source": [
    "# setting/applying new column order\n",
    "\n",
    "col_ord = ['countyFIPS', 'County', 'State', 'Week_1', 'Week_2', 'Week_3', 'Week_4', 'Week_5', 'Week_6', 'Week_7', 'Week_8',\n",
    "          'Week_9', 'Week_10', 'Week_11', 'Week_12', 'Week_13', 'Week_14', 'Week_15']"
   ]
  },
  {
   "cell_type": "code",
   "execution_count": 46,
   "metadata": {},
   "outputs": [],
   "source": [
    "weekly_cases = weekly_cases[col_ord]\n",
    "weekly_deaths = weekly_deaths[col_ord]"
   ]
  },
  {
   "cell_type": "code",
   "execution_count": 47,
   "metadata": {},
   "outputs": [],
   "source": [
    "weekly_cases = weekly_cases[weekly_cases.County != 'Statewide Unallocated']"
   ]
  },
  {
   "cell_type": "code",
   "execution_count": 48,
   "metadata": {},
   "outputs": [],
   "source": [
    "weekly_cases['Total'] = weekly_cases.loc[:, 'Week_1':].sum(axis=1)"
   ]
  },
  {
   "cell_type": "markdown",
   "metadata": {},
   "source": [
    "## Graph of new cases by week"
   ]
  },
  {
   "cell_type": "code",
   "execution_count": 50,
   "metadata": {},
   "outputs": [],
   "source": [
    "# new cases each week for the entire country\n",
    "\n",
    "entire_country = weekly_cases.loc[:,'Week_6':'Week_15'].sum()"
   ]
  },
  {
   "cell_type": "code",
   "execution_count": 51,
   "metadata": {},
   "outputs": [],
   "source": [
    "# new cases each week for \"hotpots,\" defined as currently having 5000 or more cases\n",
    "\n",
    "hotspots = weekly_cases[weekly_cases.Total > 5000].loc[:, 'Week_6':'Week_15'].sum()"
   ]
  },
  {
   "cell_type": "code",
   "execution_count": 52,
   "metadata": {},
   "outputs": [],
   "source": [
    "# new cases each week for non-hotspots\n",
    "\n",
    "not_hotspots = weekly_cases[weekly_cases.Total < 5000].loc[:, 'Week_6':'Week_15'].sum()"
   ]
  },
  {
   "cell_type": "code",
   "execution_count": 109,
   "metadata": {},
   "outputs": [
    {
     "data": {
      "image/png": "[encoded data removed]",
      "text/plain": [
       "<Figure size 1152x576 with 1 Axes>"
      ]
     },
     "metadata": {
      "needs_background": "light"
     },
     "output_type": "display_data"
    }
   ],
   "source": [
    "plt.figure(figsize=(16,8))\n",
    "\n",
    "for series in[entire_country, hotspots, not_hotspots]:\n",
    "    \n",
    "    sns.lineplot(x=['Week 6', 'Week 7', 'Week 8', 'Week 9', 'Week 10', 'Week 11',\n",
    "                'Week 12', 'Week 13', 'Week 14','Week 15'], \n",
    "               y=series.values, sort=False, linewidth=3)\n",
    "    \n",
    "plt.legend(['Entire Country', 'Previous Hotpots (5000 or more total cases)', 'Other Areas'], prop={'size': 15})\n",
    "plt.title('New Covid-19 Cases per Week', fontsize=20, pad=10)\n",
    "plt.xlabel('Week Since First Case', fontsize=20, labelpad=10)\n",
    "plt.ylabel('Number of new Cases', fontsize=20, labelpad=10);"
   ]
  },
  {
   "cell_type": "markdown",
   "metadata": {},
   "source": [
    "## Finishing Covid Features DataFrame"
   ]
  },
  {
   "cell_type": "code",
   "execution_count": 55,
   "metadata": {},
   "outputs": [],
   "source": [
    "# getting case and death counts before the \"target cutoff\", weeks 14 and 15 are reserved to determined the target\n",
    "\n",
    "cases_before = weekly_cases[['countyFIPS', 'Week_13']]\n",
    "deaths_before = weekly_deaths[['countyFIPS', 'Week_13']]"
   ]
  },
  {
   "cell_type": "code",
   "execution_count": 56,
   "metadata": {},
   "outputs": [],
   "source": [
    "covid_features = covid_features.merge(cases_before, left_on='countyFIPS', right_on='countyFIPS')"
   ]
  },
  {
   "cell_type": "code",
   "execution_count": 57,
   "metadata": {},
   "outputs": [],
   "source": [
    "covid_features = covid_features.merge(deaths_before, left_on='countyFIPS', right_on='countyFIPS')"
   ]
  },
  {
   "cell_type": "code",
   "execution_count": 58,
   "metadata": {},
   "outputs": [],
   "source": [
    "# renaming the columns\n",
    "\n",
    "covid_features.columns = ['countyFIPS', 'County Name', 'State', 'population', 'County_beds',\n",
    "       'Total_cases', 'Total_deaths', 'Days since case1', 'Days since death1',\n",
    "       'County_hospitalizations', 'County_testing_rate', 'Deaths_wk_before',\n",
    "       'Cases_we_before']"
   ]
  },
  {
   "cell_type": "markdown",
   "metadata": {},
   "source": [
    "## Percentage increase in cases week before April 22"
   ]
  },
  {
   "cell_type": "code",
   "execution_count": 59,
   "metadata": {},
   "outputs": [],
   "source": [
    "# adding in categorical data to the weekly cumulative cases for the future merge\n",
    "\n",
    "cumulative_cases['County'] = df_cases['County Name']\n",
    "cumulative_cases['State'] = df_cases['State']\n",
    "cumulative_cases['countyFIPS'] = df_cases['countyFIPS']\n",
    "\n",
    "cumulative_deaths['County'] = df_deaths['County Name']\n",
    "cumulative_deaths['State'] = df_deaths['State']\n",
    "cumulative_deaths['countyFIPS'] = df_deaths['countyFIPS']"
   ]
  },
  {
   "cell_type": "code",
   "execution_count": 61,
   "metadata": {},
   "outputs": [],
   "source": [
    "# setting/applying column order\n",
    "\n",
    "col_ord = ['countyFIPS','County', 'State', 'Week_1', 'Week_2', 'Week_3', 'Week_4', 'Week_5', 'Week_6', 'Week_7', 'Week_8',\n",
    "          'Week_9', 'Week_10', 'Week_11', 'Week_12', 'Week_13', 'Week_14', 'Week_15']"
   ]
  },
  {
   "cell_type": "code",
   "execution_count": 62,
   "metadata": {},
   "outputs": [],
   "source": [
    "cumulative_cases = cumulative_cases[col_ord]\n",
    "cumulative_deaths = cumulative_deaths[col_ord]"
   ]
  },
  {
   "cell_type": "code",
   "execution_count": 64,
   "metadata": {},
   "outputs": [],
   "source": [
    "# want the full state names\n",
    "\n",
    "cumulative_cases.State = cumulative_cases.State.apply(lambda x: states[x])\n",
    "\n",
    "cumulative_deaths.State = cumulative_deaths.State.apply(lambda x: states[x])"
   ]
  },
  {
   "cell_type": "code",
   "execution_count": 65,
   "metadata": {},
   "outputs": [],
   "source": [
    "# making a data frame to determine the weekly percentage increases\n",
    "\n",
    "cases_percent = cumulative_cases.copy()"
   ]
  },
  {
   "cell_type": "code",
   "execution_count": 66,
   "metadata": {},
   "outputs": [],
   "source": [
    "# find the percentage increases in total cases on a week by week basic (excluding categorical columns, and first week)\n",
    "\n",
    "cases_percent.iloc[: , 4:] = cases_percent.iloc[: , 4:].pct_change(axis=1)"
   ]
  },
  {
   "cell_type": "code",
   "execution_count": 67,
   "metadata": {},
   "outputs": [],
   "source": [
    "# replacing all \"infs,\" which indicate the first case has appeared, with the median of the column\n",
    "\n",
    "cases_percent.Week_10.replace(np.inf, cases_percent.Week_11.median(), inplace=True)\n",
    "cases_percent.Week_11.replace(np.inf, cases_percent.Week_12.median(), inplace=True)\n",
    "cases_percent.Week_12.replace(np.inf, cases_percent.Week_13.median(), inplace=True)"
   ]
  },
  {
   "cell_type": "code",
   "execution_count": 68,
   "metadata": {},
   "outputs": [],
   "source": [
    "# replacing NaNs with zeros\n",
    "\n",
    "cases_percent.Week_11.replace(np.nan, 0, inplace=True)\n",
    "cases_percent.Week_12.replace(np.nan, 0, inplace=True)\n",
    "cases_percent.Week_13.replace(np.nan, 0, inplace=True)"
   ]
  },
  {
   "cell_type": "code",
   "execution_count": 77,
   "metadata": {},
   "outputs": [],
   "source": [
    "# making a dataframe of the percentage increase in cases the three weeks leading up to the target cutoff\n",
    "\n",
    "percent_increase = cases_percent[['countyFIPS', 'Week_11', 'Week_12', 'Week_13']]"
   ]
  },
  {
   "cell_type": "code",
   "execution_count": 78,
   "metadata": {},
   "outputs": [],
   "source": [
    "# merging the percentage increase features into the covid dataframe\n",
    "\n",
    "covid_features = covid_features.merge(percent_increase, left_on='countyFIPS', right_on='countyFIPS')"
   ]
  },
  {
   "cell_type": "code",
   "execution_count": 80,
   "metadata": {},
   "outputs": [],
   "source": [
    "# renaming columns, setting/applying new column order\n",
    "\n",
    "covid_features.columns = ['countyFIPS', 'County Name', 'State', 'population', 'County_beds',\n",
    "       'Total_cases', 'Total_deaths', 'Days since case1', 'Days since death1',\n",
    "       'County_hospitalizations', 'County_testing_rate','deaths_wk_before', 'cases_wk_before',\n",
    "        'pcnt_inc_wk11','pcnt_inc_wk12','pcnt_inc_wk13' ]"
   ]
  },
  {
   "cell_type": "code",
   "execution_count": 81,
   "metadata": {},
   "outputs": [],
   "source": [
    "col_ord = ['countyFIPS', 'County Name', 'State', 'population', 'County_beds',\n",
    "       'Total_cases', 'Total_deaths', 'Days since case1', 'Days since death1',\n",
    "       'County_hospitalizations', 'County_testing_rate', 'cases_wk_before',\n",
    "       'deaths_wk_before', 'pcnt_inc_wk11','pcnt_inc_wk12','pcnt_inc_wk13']"
   ]
  },
  {
   "cell_type": "code",
   "execution_count": 82,
   "metadata": {},
   "outputs": [],
   "source": [
    "covid_features = covid_features[col_ord]"
   ]
  },
  {
   "cell_type": "code",
   "execution_count": 83,
   "metadata": {},
   "outputs": [
    {
     "data": {
      "text/html": [
       "<div>\n",
       "<style scoped>\n",
       "    .dataframe tbody tr th:only-of-type {\n",
       "        vertical-align: middle;\n",
       "    }\n",
       "\n",
       "    .dataframe tbody tr th {\n",
       "        vertical-align: top;\n",
       "    }\n",
       "\n",
       "    .dataframe thead th {\n",
       "        text-align: right;\n",
       "    }\n",
       "</style>\n",
       "<table border=\"1\" class=\"dataframe\">\n",
       "  <thead>\n",
       "    <tr style=\"text-align: right;\">\n",
       "      <th></th>\n",
       "      <th>countyFIPS</th>\n",
       "      <th>County Name</th>\n",
       "      <th>State</th>\n",
       "      <th>population</th>\n",
       "      <th>County_beds</th>\n",
       "      <th>Total_cases</th>\n",
       "      <th>Total_deaths</th>\n",
       "      <th>Days since case1</th>\n",
       "      <th>Days since death1</th>\n",
       "      <th>County_hospitalizations</th>\n",
       "      <th>County_testing_rate</th>\n",
       "      <th>cases_wk_before</th>\n",
       "      <th>deaths_wk_before</th>\n",
       "      <th>pcnt_inc_wk11</th>\n",
       "      <th>pcnt_inc_wk12</th>\n",
       "      <th>pcnt_inc_wk13</th>\n",
       "    </tr>\n",
       "  </thead>\n",
       "  <tbody>\n",
       "    <tr>\n",
       "      <th>0</th>\n",
       "      <td>1001</td>\n",
       "      <td>Autauga County</td>\n",
       "      <td>Alabama</td>\n",
       "      <td>55869</td>\n",
       "      <td>173</td>\n",
       "      <td>30</td>\n",
       "      <td>1</td>\n",
       "      <td>29</td>\n",
       "      <td>14</td>\n",
       "      <td>0.344198</td>\n",
       "      <td>0.017450</td>\n",
       "      <td>0.0</td>\n",
       "      <td>7.0</td>\n",
       "      <td>0.714286</td>\n",
       "      <td>0.916667</td>\n",
       "      <td>0.304348</td>\n",
       "    </tr>\n",
       "    <tr>\n",
       "      <th>1</th>\n",
       "      <td>1003</td>\n",
       "      <td>Baldwin County</td>\n",
       "      <td>Alabama</td>\n",
       "      <td>223234</td>\n",
       "      <td>692</td>\n",
       "      <td>123</td>\n",
       "      <td>2</td>\n",
       "      <td>39</td>\n",
       "      <td>4</td>\n",
       "      <td>0.353185</td>\n",
       "      <td>0.004367</td>\n",
       "      <td>2.0</td>\n",
       "      <td>36.0</td>\n",
       "      <td>1.210526</td>\n",
       "      <td>1.071429</td>\n",
       "      <td>0.413793</td>\n",
       "    </tr>\n",
       "    <tr>\n",
       "      <th>2</th>\n",
       "      <td>1005</td>\n",
       "      <td>Barbour County</td>\n",
       "      <td>Alabama</td>\n",
       "      <td>24686</td>\n",
       "      <td>76</td>\n",
       "      <td>28</td>\n",
       "      <td>0</td>\n",
       "      <td>19</td>\n",
       "      <td>0</td>\n",
       "      <td>0.727052</td>\n",
       "      <td>0.039492</td>\n",
       "      <td>0.0</td>\n",
       "      <td>17.0</td>\n",
       "      <td>1.500000</td>\n",
       "      <td>2.666667</td>\n",
       "      <td>1.545455</td>\n",
       "    </tr>\n",
       "    <tr>\n",
       "      <th>3</th>\n",
       "      <td>1007</td>\n",
       "      <td>Bibb County</td>\n",
       "      <td>Alabama</td>\n",
       "      <td>22394</td>\n",
       "      <td>69</td>\n",
       "      <td>32</td>\n",
       "      <td>0</td>\n",
       "      <td>23</td>\n",
       "      <td>0</td>\n",
       "      <td>0.915960</td>\n",
       "      <td>0.043534</td>\n",
       "      <td>0.0</td>\n",
       "      <td>15.0</td>\n",
       "      <td>1.666667</td>\n",
       "      <td>1.125000</td>\n",
       "      <td>0.882353</td>\n",
       "    </tr>\n",
       "    <tr>\n",
       "      <th>4</th>\n",
       "      <td>1009</td>\n",
       "      <td>Blount County</td>\n",
       "      <td>Alabama</td>\n",
       "      <td>57826</td>\n",
       "      <td>179</td>\n",
       "      <td>26</td>\n",
       "      <td>0</td>\n",
       "      <td>28</td>\n",
       "      <td>0</td>\n",
       "      <td>0.288209</td>\n",
       "      <td>0.016859</td>\n",
       "      <td>0.0</td>\n",
       "      <td>10.0</td>\n",
       "      <td>1.000000</td>\n",
       "      <td>0.600000</td>\n",
       "      <td>0.625000</td>\n",
       "    </tr>\n",
       "  </tbody>\n",
       "</table>\n",
       "</div>"
      ],
      "text/plain": [
       "   countyFIPS     County Name    State  population  County_beds  Total_cases  \\\n",
       "0        1001  Autauga County  Alabama       55869          173           30   \n",
       "1        1003  Baldwin County  Alabama      223234          692          123   \n",
       "2        1005  Barbour County  Alabama       24686           76           28   \n",
       "3        1007     Bibb County  Alabama       22394           69           32   \n",
       "4        1009   Blount County  Alabama       57826          179           26   \n",
       "\n",
       "   Total_deaths  Days since case1  Days since death1  County_hospitalizations  \\\n",
       "0             1                29                 14                 0.344198   \n",
       "1             2                39                  4                 0.353185   \n",
       "2             0                19                  0                 0.727052   \n",
       "3             0                23                  0                 0.915960   \n",
       "4             0                28                  0                 0.288209   \n",
       "\n",
       "   County_testing_rate  cases_wk_before  deaths_wk_before  pcnt_inc_wk11  \\\n",
       "0             0.017450              0.0               7.0       0.714286   \n",
       "1             0.004367              2.0              36.0       1.210526   \n",
       "2             0.039492              0.0              17.0       1.500000   \n",
       "3             0.043534              0.0              15.0       1.666667   \n",
       "4             0.016859              0.0              10.0       1.000000   \n",
       "\n",
       "   pcnt_inc_wk12  pcnt_inc_wk13  \n",
       "0       0.916667       0.304348  \n",
       "1       1.071429       0.413793  \n",
       "2       2.666667       1.545455  \n",
       "3       1.125000       0.882353  \n",
       "4       0.600000       0.625000  "
      ]
     },
     "execution_count": 83,
     "metadata": {},
     "output_type": "execute_result"
    }
   ],
   "source": [
    "# view the covid features dataframe to make sure everything looks right\n",
    "\n",
    "covid_features.head()"
   ]
  },
  {
   "cell_type": "markdown",
   "metadata": {},
   "source": [
    "# Producing Target"
   ]
  },
  {
   "cell_type": "code",
   "execution_count": 89,
   "metadata": {},
   "outputs": [],
   "source": [
    "# function for counting specific row entries\n",
    "\n",
    "def count_50_percent_inc(series):\n",
    "    '''Counts entries in a series above 0.5'''\n",
    "    return (series > 0.50).sum()\n",
    "\n",
    "def count_75_percent_inc(series):\n",
    "    '''Counts entries in a series above 0.75'''\n",
    "    return (series > 0.75).sum()\n",
    "\n",
    "def count_100_percent_inc(series):\n",
    "    '''Counts entries in a series above 1'''\n",
    "    return (series > 1.00).sum()"
   ]
  },
  {
   "cell_type": "code",
   "execution_count": 90,
   "metadata": {},
   "outputs": [],
   "source": [
    "# produces a column containing the number of weeks cases doubled in a county over a 2 week period\n",
    "\n",
    "cases_percent[\"Weeks_100_percent_inc\"] = cases_percent.loc[:, 'Week_14':'Week_15'].apply(\n",
    "    func=lambda row: count_100_percent_inc(row), axis=1)\n",
    "\n",
    "cases_percent[\"Weeks_75_percent_inc\"] = cases_percent.loc[:, 'Week_14':'Week_15'].apply(\n",
    "    func=lambda row: count_75_percent_inc(row), axis=1)\n",
    "\n",
    "cases_percent[\"Weeks_50_percent_inc\"] = cases_percent.loc[:, 'Week_14':'Week_15'].apply(\n",
    "    func=lambda row: count_50_percent_inc(row), axis=1)\n"
   ]
  },
  {
   "cell_type": "code",
   "execution_count": 91,
   "metadata": {},
   "outputs": [
    {
     "data": {
      "text/plain": [
       "(0    2716\n",
       " 1     369\n",
       " 2      60\n",
       " Name: Weeks_100_percent_inc, dtype: int64,\n",
       " 0    2500\n",
       " 1     527\n",
       " 2     118\n",
       " Name: Weeks_75_percent_inc, dtype: int64,\n",
       " 0    2236\n",
       " 1     685\n",
       " 2     224\n",
       " Name: Weeks_50_percent_inc, dtype: int64)"
      ]
     },
     "execution_count": 91,
     "metadata": {},
     "output_type": "execute_result"
    }
   ],
   "source": [
    "# values counts for the newly created columns above\n",
    "\n",
    "cases_percent.Weeks_100_percent_inc.value_counts(), cases_percent.Weeks_75_percent_inc.value_counts(), cases_percent.Weeks_50_percent_inc.value_counts()"
   ]
  },
  {
   "cell_type": "code",
   "execution_count": 92,
   "metadata": {},
   "outputs": [],
   "source": [
    "# total cases at the beginngin of the target cutoff\n",
    "\n",
    "week_14 = cumulative_cases[['countyFIPS', 'Week_14']]"
   ]
  },
  {
   "cell_type": "code",
   "execution_count": 94,
   "metadata": {},
   "outputs": [],
   "source": [
    "# adding the above data in to help determine the target\n",
    "\n",
    "cases_percent = cases_percent.merge(week_14, left_on='countyFIPS', right_on='countyFIPS')"
   ]
  },
  {
   "cell_type": "code",
   "execution_count": 98,
   "metadata": {},
   "outputs": [],
   "source": [
    "# setting the target\n",
    "\n",
    "cases_percent['At_risk'] = (((cases_percent.Week_14_y > 50) & (cases_percent.Weeks_100_percent_inc) > 0) |\n",
    "                           ((cases_percent.Week_14_y > 100) & (cases_percent.Weeks_75_percent_inc) > 0) |\n",
    "                           ((cases_percent.Week_14_y > 150) & (cases_percent.Weeks_50_percent_inc) > 0)).astype(int)"
   ]
  },
  {
   "cell_type": "code",
   "execution_count": 99,
   "metadata": {},
   "outputs": [
    {
     "data": {
      "text/plain": [
       "count    3145.000000\n",
       "mean        0.044833\n",
       "std         0.206970\n",
       "min         0.000000\n",
       "25%         0.000000\n",
       "50%         0.000000\n",
       "75%         0.000000\n",
       "max         1.000000\n",
       "Name: At_risk, dtype: float64"
      ]
     },
     "execution_count": 99,
     "metadata": {},
     "output_type": "execute_result"
    }
   ],
   "source": [
    "# viewing percentage of \"at_risk\" counties based on the target above, which is around 4.5%\n",
    "\n",
    "cases_percent.At_risk.describe()"
   ]
  },
  {
   "cell_type": "code",
   "execution_count": 101,
   "metadata": {},
   "outputs": [],
   "source": [
    "# making a dataframe which contains only the county code and the target (to make merge possible)\n",
    "\n",
    "target = cases_percent[['countyFIPS', 'At_risk']]"
   ]
  },
  {
   "cell_type": "markdown",
   "metadata": {},
   "source": [
    "# Save Tables"
   ]
  },
  {
   "cell_type": "code",
   "execution_count": 102,
   "metadata": {},
   "outputs": [],
   "source": [
    "# merging the target into the covid table\n",
    "\n",
    "covid_table = covid_features.merge(target, left_on='countyFIPS', right_on='countyFIPS')"
   ]
  },
  {
   "cell_type": "code",
   "execution_count": 104,
   "metadata": {},
   "outputs": [],
   "source": [
    "# replacing NaNs in hospitalization column with zeros\n",
    "\n",
    "covid_table.fillna(0, inplace=True)"
   ]
  },
  {
   "cell_type": "code",
   "execution_count": 105,
   "metadata": {},
   "outputs": [],
   "source": [
    "covid_table = covid_table[covid_table.population != 0]"
   ]
  },
  {
   "cell_type": "code",
   "execution_count": 107,
   "metadata": {},
   "outputs": [],
   "source": [
    "covid_table.to_csv('covid_table.csv', index=False, index_label='countyFIPS')"
   ]
  }
 ],
 "metadata": {
  "kernelspec": {
   "display_name": "Python 3",
   "language": "python",
   "name": "python3"
  },
  "language_info": {
   "codemirror_mode": {
    "name": "ipython",
    "version": 3
   },
   "file_extension": ".py",
   "mimetype": "text/x-python",
   "name": "python",
   "nbconvert_exporter": "python",
   "pygments_lexer": "ipython3",
   "version": "3.7.4"
  },
  "toc": {
   "base_numbering": 1,
   "nav_menu": {},
   "number_sections": true,
   "sideBar": true,
   "skip_h1_title": false,
   "title_cell": "Table of Contents",
   "title_sidebar": "Contents",
   "toc_cell": false,
   "toc_position": {},
   "toc_section_display": true,
   "toc_window_display": false
  }
 },
 "nbformat": 4,
 "nbformat_minor": 4
}
