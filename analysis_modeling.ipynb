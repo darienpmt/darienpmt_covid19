{
 "cells": [
  {
   "cell_type": "code",
   "execution_count": 2,
   "metadata": {},
   "outputs": [],
   "source": [
    "import pandas as pd\n",
    "import numpy as np\n",
    "\n",
    "import matplotlib.pyplot as plt\n",
    "import seaborn as sns\n",
    "\n",
    "from sklearn.preprocessing import StandardScaler\n",
    "from sklearn.pipeline import make_pipeline\n",
    "from imblearn.pipeline import Pipeline\n",
    "from sklearn.dummy import DummyClassifier\n",
    "from sklearn.linear_model import LogisticRegression\n",
    "from sklearn.neighbors import KNeighborsClassifier\n",
    "from sklearn import svm, ensemble, linear_model, neighbors, naive_bayes\n",
    "from sklearn.model_selection import train_test_split, KFold, cross_val_score\n",
    "from sklearn.metrics import precision_score, recall_score, accuracy_score, roc_auc_score, roc_curve \n",
    "from sklearn.metrics import confusion_matrix, precision_recall_curve,f1_score, fbeta_score, log_loss\n",
    "from sklearn.naive_bayes import BernoulliNB, MultinomialNB, GaussianNB\n",
    "from sklearn import svm, metrics\n",
    "from sklearn.svm import SVC, LinearSVC\n",
    "from sklearn.ensemble import RandomForestClassifier, GradientBoostingClassifier\n",
    "from sklearn.tree import DecisionTreeClassifier\n",
    "from imblearn.over_sampling import RandomOverSampler, SMOTE\n",
    "from imblearn.under_sampling import RandomUnderSampler\n",
    "from sklearn.model_selection import GridSearchCV\n",
    "from sklearn.feature_selection import SelectFromModel\n",
    "import pickle"
   ]
  },
  {
   "cell_type": "code",
   "execution_count": 3,
   "metadata": {},
   "outputs": [],
   "source": [
    "pd.options.display.max_columns = 999\n",
    "pd.options.display.max_rows = 999"
   ]
  },
  {
   "cell_type": "code",
   "execution_count": 4,
   "metadata": {},
   "outputs": [],
   "source": [
    "df = pd.read_csv('proj3_data.csv', index_col=0)"
   ]
  },
  {
   "cell_type": "code",
   "execution_count": 5,
   "metadata": {},
   "outputs": [],
   "source": [
    "df = df[df.population != 0]"
   ]
  },
  {
   "cell_type": "code",
   "execution_count": 6,
   "metadata": {},
   "outputs": [],
   "source": [
    "# making a copy of the dataframe to separate out my new features (later)\n",
    "new_df = df.copy()"
   ]
  },
  {
   "cell_type": "markdown",
   "metadata": {},
   "source": [
    "## Target distribution"
   ]
  },
  {
   "cell_type": "code",
   "execution_count": 140,
   "metadata": {},
   "outputs": [
    {
     "data": {
      "text/plain": [
       "count    3141.000000\n",
       "mean        0.044890\n",
       "std         0.207096\n",
       "min         0.000000\n",
       "25%         0.000000\n",
       "50%         0.000000\n",
       "75%         0.000000\n",
       "max         1.000000\n",
       "Name: at_risk, dtype: float64"
      ]
     },
     "execution_count": 140,
     "metadata": {},
     "output_type": "execute_result"
    }
   ],
   "source": [
    "df.at_risk.describe()"
   ]
  },
  {
   "cell_type": "markdown",
   "metadata": {},
   "source": [
    "# Exploratory Data Analysis"
   ]
  },
  {
   "cell_type": "markdown",
   "metadata": {},
   "source": [
    "## Grouping by target and different features"
   ]
  },
  {
   "cell_type": "code",
   "execution_count": 17,
   "metadata": {},
   "outputs": [
    {
     "data": {
      "text/html": [
       "<div>\n",
       "<style scoped>\n",
       "    .dataframe tbody tr th:only-of-type {\n",
       "        vertical-align: middle;\n",
       "    }\n",
       "\n",
       "    .dataframe tbody tr th {\n",
       "        vertical-align: top;\n",
       "    }\n",
       "\n",
       "    .dataframe thead th {\n",
       "        text-align: right;\n",
       "    }\n",
       "</style>\n",
       "<table border=\"1\" class=\"dataframe\">\n",
       "  <thead>\n",
       "    <tr style=\"text-align: right;\">\n",
       "      <th></th>\n",
       "      <th>countyfips</th>\n",
       "      <th>population</th>\n",
       "      <th>ppl_popdensity</th>\n",
       "      <th>county_beds</th>\n",
       "      <th>total_cases</th>\n",
       "      <th>total_deaths</th>\n",
       "      <th>days_since_case1</th>\n",
       "      <th>days_since_death1</th>\n",
       "      <th>county_hospitalizations</th>\n",
       "      <th>county_testing_rate</th>\n",
       "      <th>cases_wk_before</th>\n",
       "      <th>deaths_wk_before</th>\n",
       "      <th>pcnt_inc_wk10</th>\n",
       "      <th>pcnt_inc_wk11</th>\n",
       "      <th>pcnt_inc_wk12</th>\n",
       "      <th>inc_pov_rate</th>\n",
       "      <th>inc_med_hh</th>\n",
       "      <th>inc_per_cap</th>\n",
       "      <th>jobs_serv</th>\n",
       "      <th>jobs_manu</th>\n",
       "      <th>jobs_agro</th>\n",
       "      <th>jobs_unem</th>\n",
       "      <th>jobs_const</th>\n",
       "      <th>jobs_trans</th>\n",
       "      <th>ppl_ov65_pct</th>\n",
       "      <th>ppl_un18_pct</th>\n",
       "      <th>ppl_nohs_pct</th>\n",
       "      <th>ppl_college_pct</th>\n",
       "      <th>ppl_wht_pct</th>\n",
       "      <th>ppl_hisp_pct</th>\n",
       "      <th>ppl_bl_pct</th>\n",
       "    </tr>\n",
       "    <tr>\n",
       "      <th>at_risk</th>\n",
       "      <th></th>\n",
       "      <th></th>\n",
       "      <th></th>\n",
       "      <th></th>\n",
       "      <th></th>\n",
       "      <th></th>\n",
       "      <th></th>\n",
       "      <th></th>\n",
       "      <th></th>\n",
       "      <th></th>\n",
       "      <th></th>\n",
       "      <th></th>\n",
       "      <th></th>\n",
       "      <th></th>\n",
       "      <th></th>\n",
       "      <th></th>\n",
       "      <th></th>\n",
       "      <th></th>\n",
       "      <th></th>\n",
       "      <th></th>\n",
       "      <th></th>\n",
       "      <th></th>\n",
       "      <th></th>\n",
       "      <th></th>\n",
       "      <th></th>\n",
       "      <th></th>\n",
       "      <th></th>\n",
       "      <th></th>\n",
       "      <th></th>\n",
       "      <th></th>\n",
       "      <th></th>\n",
       "    </tr>\n",
       "  </thead>\n",
       "  <tbody>\n",
       "    <tr>\n",
       "      <th>0</th>\n",
       "      <td>30381.378000</td>\n",
       "      <td>101087.088667</td>\n",
       "      <td>250.860403</td>\n",
       "      <td>244.568000</td>\n",
       "      <td>255.035000</td>\n",
       "      <td>13.764333</td>\n",
       "      <td>24.211667</td>\n",
       "      <td>7.395667</td>\n",
       "      <td>6.711198</td>\n",
       "      <td>0.113188</td>\n",
       "      <td>62.179333</td>\n",
       "      <td>4.811000</td>\n",
       "      <td>1.297119</td>\n",
       "      <td>0.628945</td>\n",
       "      <td>0.384084</td>\n",
       "      <td>15.395467</td>\n",
       "      <td>50944.566333</td>\n",
       "      <td>26007.602333</td>\n",
       "      <td>42.769148</td>\n",
       "      <td>12.178532</td>\n",
       "      <td>5.240862</td>\n",
       "      <td>4.131733</td>\n",
       "      <td>7.25836</td>\n",
       "      <td>5.542829</td>\n",
       "      <td>12.388741</td>\n",
       "      <td>23.387170</td>\n",
       "      <td>13.774713</td>\n",
       "      <td>21.079246</td>\n",
       "      <td>78.690117</td>\n",
       "      <td>8.148817</td>\n",
       "      <td>8.513463</td>\n",
       "    </tr>\n",
       "    <tr>\n",
       "      <th>1</th>\n",
       "      <td>30541.042553</td>\n",
       "      <td>177150.148936</td>\n",
       "      <td>436.594752</td>\n",
       "      <td>431.858156</td>\n",
       "      <td>223.042553</td>\n",
       "      <td>7.787234</td>\n",
       "      <td>32.092199</td>\n",
       "      <td>13.382979</td>\n",
       "      <td>7.005625</td>\n",
       "      <td>0.021506</td>\n",
       "      <td>85.212766</td>\n",
       "      <td>3.574468</td>\n",
       "      <td>2.036489</td>\n",
       "      <td>1.444280</td>\n",
       "      <td>1.367225</td>\n",
       "      <td>15.011348</td>\n",
       "      <td>54196.127660</td>\n",
       "      <td>26579.496454</td>\n",
       "      <td>44.886134</td>\n",
       "      <td>14.796628</td>\n",
       "      <td>2.503240</td>\n",
       "      <td>4.167376</td>\n",
       "      <td>6.64594</td>\n",
       "      <td>4.763898</td>\n",
       "      <td>11.089720</td>\n",
       "      <td>24.288298</td>\n",
       "      <td>14.547407</td>\n",
       "      <td>23.966425</td>\n",
       "      <td>70.270355</td>\n",
       "      <td>11.247234</td>\n",
       "      <td>13.735248</td>\n",
       "    </tr>\n",
       "  </tbody>\n",
       "</table>\n",
       "</div>"
      ],
      "text/plain": [
       "           countyfips     population  ppl_popdensity  county_beds  \\\n",
       "at_risk                                                             \n",
       "0        30381.378000  101087.088667      250.860403   244.568000   \n",
       "1        30541.042553  177150.148936      436.594752   431.858156   \n",
       "\n",
       "         total_cases  total_deaths  days_since_case1  days_since_death1  \\\n",
       "at_risk                                                                   \n",
       "0         255.035000     13.764333         24.211667           7.395667   \n",
       "1         223.042553      7.787234         32.092199          13.382979   \n",
       "\n",
       "         county_hospitalizations  county_testing_rate  cases_wk_before  \\\n",
       "at_risk                                                                  \n",
       "0                       6.711198             0.113188        62.179333   \n",
       "1                       7.005625             0.021506        85.212766   \n",
       "\n",
       "         deaths_wk_before  pcnt_inc_wk10  pcnt_inc_wk11  pcnt_inc_wk12  \\\n",
       "at_risk                                                                  \n",
       "0                4.811000       1.297119       0.628945       0.384084   \n",
       "1                3.574468       2.036489       1.444280       1.367225   \n",
       "\n",
       "         inc_pov_rate    inc_med_hh   inc_per_cap  jobs_serv  jobs_manu  \\\n",
       "at_risk                                                                   \n",
       "0           15.395467  50944.566333  26007.602333  42.769148  12.178532   \n",
       "1           15.011348  54196.127660  26579.496454  44.886134  14.796628   \n",
       "\n",
       "         jobs_agro  jobs_unem  jobs_const  jobs_trans  ppl_ov65_pct  \\\n",
       "at_risk                                                               \n",
       "0         5.240862   4.131733     7.25836    5.542829     12.388741   \n",
       "1         2.503240   4.167376     6.64594    4.763898     11.089720   \n",
       "\n",
       "         ppl_un18_pct  ppl_nohs_pct  ppl_college_pct  ppl_wht_pct  \\\n",
       "at_risk                                                             \n",
       "0           23.387170     13.774713        21.079246    78.690117   \n",
       "1           24.288298     14.547407        23.966425    70.270355   \n",
       "\n",
       "         ppl_hisp_pct  ppl_bl_pct  \n",
       "at_risk                            \n",
       "0            8.148817    8.513463  \n",
       "1           11.247234   13.735248  "
      ]
     },
     "execution_count": 17,
     "metadata": {},
     "output_type": "execute_result"
    }
   ],
   "source": [
    "df.groupby('at_risk').mean()"
   ]
  },
  {
   "cell_type": "markdown",
   "metadata": {},
   "source": [
    "Make a table for the presentation highlighting the main differences."
   ]
  },
  {
   "cell_type": "markdown",
   "metadata": {},
   "source": [
    "## Visualizations"
   ]
  },
  {
   "cell_type": "markdown",
   "metadata": {},
   "source": [
    "Based on subject area knowledge, making a DataFrame of what I think may be the most impactful features, then looking at a pairplot to see if I am correct."
   ]
  },
  {
   "cell_type": "code",
   "execution_count": 6,
   "metadata": {},
   "outputs": [],
   "source": [
    "# looking at all the covid/medical related features\n",
    "\n",
    "covid_df = df[['total_cases', 'days_since_case1', 'total_deaths', 'days_since_death1', 'county_beds', \n",
    "              'county_hospitalizations', 'county_testing_rate', 'at_risk']]"
   ]
  },
  {
   "cell_type": "code",
   "execution_count": null,
   "metadata": {},
   "outputs": [],
   "source": [
    "sns.pairplot(covid_df, hue='at_risk');"
   ]
  },
  {
   "cell_type": "markdown",
   "metadata": {},
   "source": [
    "It looks like both totals and both days since case/death 1 could have some separating qualities. Perhaps county beds too."
   ]
  },
  {
   "cell_type": "code",
   "execution_count": 7,
   "metadata": {},
   "outputs": [],
   "source": [
    "# looking at all income related features\n",
    "\n",
    "income_df = df[['inc_pov_rate', 'inc_med_hh', 'inc_per_cap', 'at_risk']]"
   ]
  },
  {
   "cell_type": "code",
   "execution_count": null,
   "metadata": {},
   "outputs": [],
   "source": [
    "sns.pairplot(income_df, hue='at_risk');"
   ]
  },
  {
   "cell_type": "markdown",
   "metadata": {},
   "source": [
    "Not much going on here unfortunately"
   ]
  },
  {
   "cell_type": "code",
   "execution_count": 8,
   "metadata": {},
   "outputs": [],
   "source": [
    "# looking at all job related features\n",
    "\n",
    "jobs_df = df[['jobs_serv', 'jobs_manu', 'jobs_trans', 'jobs_agro', 'jobs_unem', 'jobs_const', 'at_risk']]"
   ]
  },
  {
   "cell_type": "code",
   "execution_count": null,
   "metadata": {},
   "outputs": [],
   "source": [
    "sns.pairplot(jobs_df, hue='at_risk');"
   ]
  },
  {
   "cell_type": "markdown",
   "metadata": {},
   "source": [
    "Maybe a bit of separated from jobs in argriculture"
   ]
  },
  {
   "cell_type": "code",
   "execution_count": 9,
   "metadata": {},
   "outputs": [],
   "source": [
    "# looking at all people related features\n",
    "\n",
    "people_df = df[['population', 'ppl_popdensity', 'ppl_ov65_pct', 'ppl_un18_pct', 'ppl_wht_pct',\n",
    "               'ppl_hisp_pct', 'ppl_bl_pct', 'at_risk']]"
   ]
  },
  {
   "cell_type": "code",
   "execution_count": null,
   "metadata": {},
   "outputs": [],
   "source": [
    "ns.pairplot(people_df, hue='at_risk');"
   ]
  },
  {
   "cell_type": "markdown",
   "metadata": {},
   "source": [
    "Looks like population density and percentage of black people have some good separating qualities ( as well as percentage of white population too)."
   ]
  },
  {
   "cell_type": "code",
   "execution_count": 10,
   "metadata": {},
   "outputs": [],
   "source": [
    "# looking at all education related features\n",
    "\n",
    "ed_df = df[['ppl_nohs_pct', 'ppl_college_pct', 'at_risk']]"
   ]
  },
  {
   "cell_type": "code",
   "execution_count": null,
   "metadata": {},
   "outputs": [],
   "source": [
    "sns.pairplot(ed_df, hue='at_risk');"
   ]
  },
  {
   "cell_type": "markdown",
   "metadata": {},
   "source": [
    "# Baseline Models"
   ]
  },
  {
   "cell_type": "code",
   "execution_count": 19,
   "metadata": {},
   "outputs": [],
   "source": [
    "X, y = df.iloc[:, 3:-1], df.at_risk\n",
    "\n",
    "X, X_test, y, y_test = train_test_split(X, y, test_size = 0.2, random_state=42)\n",
    "\n",
    "X_train, X_val, y_train, y_val = train_test_split(X, y, test_size=.25, random_state=42)"
   ]
  },
  {
   "cell_type": "code",
   "execution_count": 8,
   "metadata": {},
   "outputs": [],
   "source": [
    "log = LogisticRegression(solver= 'liblinear')\n",
    "knn = KNeighborsClassifier()\n",
    "svc_linear = SVC(probability=True,)\n",
    "svc_rbf = SVC(probability=True)\n",
    "nbB = BernoulliNB()\n",
    "nbG = GaussianNB()\n",
    "rfc = RandomForestClassifier()"
   ]
  },
  {
   "cell_type": "code",
   "execution_count": 9,
   "metadata": {},
   "outputs": [],
   "source": [
    "baseline_models = {'Logistic':log, 'KNN': knn, 'SVC Linear': svc_linear, 'SVC rbf':svc_rbf, \n",
    "          'NB Bernoulli': nbB, 'NB Gauss ':nbG, 'Random Forest':rfc}"
   ]
  },
  {
   "cell_type": "markdown",
   "metadata": {},
   "source": [
    "## Hard predictions, no CV"
   ]
  },
  {
   "cell_type": "code",
   "execution_count": 10,
   "metadata": {},
   "outputs": [],
   "source": [
    "def score_models(X, y, models, random_state):\n",
    "    \n",
    "    '''Takes in dataframe features and target, splits the data into train, test, val, then fits the model and\n",
    "    returns the various scores of the model.\n",
    "    \n",
    "    input:\n",
    "            X: Features from DataFrame\n",
    "            y: Target from DataFrame\n",
    "            models: dictionary of models to score\n",
    "    output: accuracy, precision, recall, f1 and ROC AUC of models'''\n",
    "    \n",
    "    X, X_test, y, y_test = train_test_split(X, y, test_size = 0.2, random_state=random_state)\n",
    "\n",
    "    X_train, X_val, y_train, y_val = train_test_split(X, y, test_size=.25, random_state=random_state)\n",
    "    \n",
    "    for key, model in models.items():\n",
    "    \n",
    "        model.fit(X_train, y_train)\n",
    "        pred = model.predict(X_val)\n",
    "\n",
    "        print(str(key))\n",
    "        print('accuracy:', accuracy_score(y_val, pred))\n",
    "        print('precision:', precision_score(y_val, pred))\n",
    "        print('recall:', recall_score(y_val, pred))\n",
    "        print('f1:', f1_score(y_val, pred))\n",
    "        print('ROC AUC', roc_auc_score(y_val, model.predict_proba(X_val)[:,1]))\n",
    "        print('\\n')\n",
    "    "
   ]
  },
  {
   "cell_type": "code",
   "execution_count": 20,
   "metadata": {},
   "outputs": [
    {
     "name": "stdout",
     "output_type": "stream",
     "text": [
      "Logistic\n",
      "accuracy: 0.9463220675944334\n",
      "precision: 0.6666666666666666\n",
      "recall: 0.07142857142857142\n",
      "f1: 0.12903225806451613\n",
      "ROC AUC 0.7877443609022556\n",
      "\n",
      "\n",
      "KNN\n",
      "accuracy: 0.9443339960238568\n",
      "precision: 0.5\n",
      "recall: 0.03571428571428571\n",
      "f1: 0.06666666666666667\n",
      "ROC AUC 0.6315037593984962\n",
      "\n",
      "\n",
      "SVC Linear\n",
      "accuracy: 0.9443339960238568\n",
      "precision: 0.0\n",
      "recall: 0.0\n",
      "f1: 0.0\n",
      "ROC AUC 0.6689473684210527\n",
      "\n",
      "\n",
      "SVC rbf\n",
      "accuracy: 0.9443339960238568\n",
      "precision: 0.0\n",
      "recall: 0.0\n",
      "f1: 0.0\n",
      "ROC AUC 0.331203007518797\n",
      "\n",
      "\n",
      "NB Bernoulli\n",
      "accuracy: 0.7753479125248509\n",
      "precision: 0.13675213675213677\n",
      "recall: 0.5714285714285714\n"
     ]
    },
    {
     "name": "stderr",
     "output_type": "stream",
     "text": [
      "/opt/anaconda3/envs/metis/lib/python3.7/site-packages/sklearn/metrics/_classification.py:1272: UndefinedMetricWarning: Precision is ill-defined and being set to 0.0 due to no predicted samples. Use `zero_division` parameter to control this behavior.\n",
      "  _warn_prf(average, modifier, msg_start, len(result))\n",
      "/opt/anaconda3/envs/metis/lib/python3.7/site-packages/sklearn/metrics/_classification.py:1272: UndefinedMetricWarning: Precision is ill-defined and being set to 0.0 due to no predicted samples. Use `zero_division` parameter to control this behavior.\n",
      "  _warn_prf(average, modifier, msg_start, len(result))\n"
     ]
    },
    {
     "name": "stdout",
     "output_type": "stream",
     "text": [
      "f1: 0.22068965517241382\n",
      "ROC AUC 0.7675187969924813\n",
      "\n",
      "\n",
      "NB Gauss \n",
      "accuracy: 0.10934393638170974\n",
      "precision: 0.04741379310344827\n",
      "recall: 0.7857142857142857\n",
      "f1: 0.08943089430894308\n",
      "ROC AUC 0.5898496240601504\n",
      "\n",
      "\n",
      "Random Forest\n",
      "accuracy: 0.9502982107355865\n",
      "precision: 0.7142857142857143\n",
      "recall: 0.17857142857142858\n",
      "f1: 0.2857142857142857\n",
      "ROC AUC 0.8667669172932331\n",
      "\n",
      "\n"
     ]
    }
   ],
   "source": [
    "score_models(X, y, baseline_models, 42)"
   ]
  },
  {
   "cell_type": "code",
   "execution_count": 93,
   "metadata": {},
   "outputs": [],
   "source": [
    "def make_confusion_matrix(X, y, model, threshold, random_state):\n",
    "    \n",
    "    X, X_test, y, y_test = train_test_split(X, y, test_size = 0.2, random_state=random_state)\n",
    "    \n",
    "    model.fit(X, y)\n",
    "    \n",
    "    y_predict = (model.predict_proba(X_test)[:, 1] >= threshold)\n",
    "    print('F1 score:', f1_score(y_test, y_predict))\n",
    "    covid_confusion = confusion_matrix(y_test, y_predict)\n",
    "    plt.figure(dpi=80)\n",
    "    sns.heatmap(covid_confusion, cmap=plt.cm.Blues, annot=True, square=True, fmt='d',\n",
    "           xticklabels=[\"Won't Increase\", 'Continue to Increase'],\n",
    "           yticklabels=[\"Won't Increase\", 'Continue to Increase']);\n",
    "    plt.xlabel('prediction')\n",
    "    plt.ylabel('actual')"
   ]
  },
  {
   "cell_type": "code",
   "execution_count": 22,
   "metadata": {},
   "outputs": [
    {
     "name": "stdout",
     "output_type": "stream",
     "text": [
      "F1 score: 0.08183306055646482\n"
     ]
    },
    {
     "data": {
      "image/png": "[encoded data removed]",
      "text/plain": [
       "<Figure size 480x320 with 2 Axes>"
      ]
     },
     "metadata": {
      "needs_background": "light"
     },
     "output_type": "display_data"
    }
   ],
   "source": [
    "# using the best model from above, Naive Bayes Gauss\n",
    "\n",
    "make_confusion_matrix(X, y, nbG, 0.5, 42)"
   ]
  },
  {
   "cell_type": "markdown",
   "metadata": {},
   "source": [
    "Pretty bad! My goal will to try and improve this initial \"best model.\""
   ]
  },
  {
   "cell_type": "markdown",
   "metadata": {},
   "source": [
    "# Dummy Variables and Basic Feature Engineering"
   ]
  },
  {
   "cell_type": "markdown",
   "metadata": {},
   "source": [
    "## Coastal Counties\n",
    "Instead of a straight up dummy variable for the county, I thought it would be interesting to have a column that determines if the county is coastal or not (since a lot of coastal states have been affected)"
   ]
  },
  {
   "cell_type": "code",
   "execution_count": 23,
   "metadata": {},
   "outputs": [],
   "source": [
    "coastal_counties = pd.read_excel('coastal_counties.xlsx', header=None, names=['county_name'])"
   ]
  },
  {
   "cell_type": "code",
   "execution_count": 24,
   "metadata": {},
   "outputs": [],
   "source": [
    "new_df['coastal'] = 0\n",
    "df['coastal'] = 0"
   ]
  },
  {
   "cell_type": "code",
   "execution_count": 25,
   "metadata": {},
   "outputs": [
    {
     "name": "stderr",
     "output_type": "stream",
     "text": [
      "/opt/anaconda3/envs/metis/lib/python3.7/site-packages/pandas/core/indexing.py:205: SettingWithCopyWarning: \n",
      "A value is trying to be set on a copy of a slice from a DataFrame\n",
      "\n",
      "See the caveats in the documentation: http://pandas.pydata.org/pandas-docs/stable/user_guide/indexing.html#returning-a-view-versus-a-copy\n",
      "  self._setitem_with_indexer(indexer, value)\n"
     ]
    }
   ],
   "source": [
    "for index, county in enumerate(df['county_name']):\n",
    "    if county in list(coastal_counties.county_name.values):\n",
    "        df['coastal'].loc[index] = 1\n",
    "\n",
    "\n",
    "for index, county in enumerate(new_df['county_name']):\n",
    "    if county in list(coastal_counties.county_name.values):\n",
    "        new_df['coastal'].loc[index] = 1\n"
   ]
  },
  {
   "cell_type": "code",
   "execution_count": 26,
   "metadata": {},
   "outputs": [],
   "source": [
    "# set and apply new column order\n",
    "\n",
    "col_ord = ['countyfips', 'county_name', 'state', 'coastal', 'population', 'ppl_popdensity',\n",
    "       'county_beds', 'total_cases', 'total_deaths', 'days_since_case1',\n",
    "       'days_since_death1', 'county_hospitalizations', 'county_testing_rate',\n",
    "       'cases_wk_before', 'deaths_wk_before', 'pcnt_inc_wk10', 'pcnt_inc_wk11',\n",
    "       'pcnt_inc_wk12', 'inc_pov_rate', 'inc_med_hh', 'inc_per_cap',\n",
    "       'jobs_serv', 'jobs_manu', 'jobs_agro', 'jobs_unem', 'jobs_const',\n",
    "       'jobs_trans', 'ppl_ov65_pct', 'ppl_un18_pct', 'ppl_nohs_pct',\n",
    "       'ppl_college_pct', 'ppl_wht_pct', 'ppl_hisp_pct', 'ppl_bl_pct',\n",
    "       'at_risk']"
   ]
  },
  {
   "cell_type": "code",
   "execution_count": 28,
   "metadata": {},
   "outputs": [],
   "source": [
    "new_df = new_df[col_ord]\n",
    "df = df[col_ord]"
   ]
  },
  {
   "cell_type": "markdown",
   "metadata": {},
   "source": [
    "## States by region\n",
    "Instead of dummying all 50 states I will separate them into different regions of the United States (North East, West, etc.)"
   ]
  },
  {
   "cell_type": "code",
   "execution_count": 29,
   "metadata": {},
   "outputs": [],
   "source": [
    "regions = {'Alaska': 'Other',\n",
    "        'Alabama': 'South',\n",
    "        'Arkansas': 'South',\n",
    "        'Arizona': 'West',\n",
    "        'California': 'West',\n",
    "        'Colorado': 'West',\n",
    "        'Connecticut': 'Northeast',\n",
    "        'District of Columbia': 'Northeast',\n",
    "        'Delaware': 'Northeast',\n",
    "        'Florida': 'South',\n",
    "        'Georgia': 'South',\n",
    "        'Hawaii': 'Other',\n",
    "        'Iowa': 'Midwest',\n",
    "        'Idaho': 'West',\n",
    "        'Illinois': 'Midwest',\n",
    "        'Indiana': 'Midwest',\n",
    "        'Kansas': 'Midwest',\n",
    "        'Kentucky': 'South',\n",
    "        'Louisiana': 'South',\n",
    "        'Massachusetts': 'Northeast',\n",
    "        'Maryland': 'Northeast',\n",
    "        'Maine': 'Northeast',\n",
    "        'Michigan': 'West',\n",
    "        'Minnesota': 'Midwest',\n",
    "        'Missouri': 'Midwest',\n",
    "        'Mississippi': 'South',\n",
    "        'Montana': 'West',\n",
    "        'North Carolina': 'South',\n",
    "        'North Dakota': 'Midwest',\n",
    "        'Nebraska': 'West',\n",
    "        'New Hampshire': 'Northeast',\n",
    "        'New Jersey': 'Northeast',\n",
    "        'New Mexico': 'West',\n",
    "        'Nevada': 'West',\n",
    "        'New York': 'Northeast',\n",
    "        'Ohio': 'Midwest',\n",
    "        'Oklahoma': 'South',\n",
    "        'Oregon': 'West',\n",
    "        'Pennsylvania': 'Northeast',\n",
    "        'Rhode Island': 'Northeast',\n",
    "        'South Carolina': 'South',\n",
    "        'South Dakota': 'Midwest',\n",
    "        'Tennessee': 'South',\n",
    "        'Texas': 'South',\n",
    "        'Utah': 'West',\n",
    "        'Virginia': 'South',\n",
    "        'Vermont': 'Northeast',\n",
    "        'Washington': 'West',\n",
    "        'Wisconsin': 'Midwest',\n",
    "        'West Virginia': 'South',\n",
    "        'Wyoming': 'West'}"
   ]
  },
  {
   "cell_type": "code",
   "execution_count": 30,
   "metadata": {},
   "outputs": [],
   "source": [
    "df['region'] = df.state\n",
    "new_df['region'] = df.state"
   ]
  },
  {
   "cell_type": "code",
   "execution_count": 31,
   "metadata": {},
   "outputs": [],
   "source": [
    "df.region = df.region.apply(lambda x: regions[x])\n",
    "new_df.region = new_df.region.apply(lambda x: regions[x])"
   ]
  },
  {
   "cell_type": "code",
   "execution_count": 32,
   "metadata": {},
   "outputs": [],
   "source": [
    "col_ord = ['countyfips', 'county_name', 'state', 'region', 'coastal', 'population',\n",
    "       'ppl_popdensity', 'county_beds', 'total_cases', 'total_deaths',\n",
    "       'days_since_case1', 'days_since_death1', 'county_hospitalizations',\n",
    "       'county_testing_rate', 'cases_wk_before', 'deaths_wk_before',\n",
    "       'pcnt_inc_wk10', 'pcnt_inc_wk11', 'pcnt_inc_wk12', 'inc_pov_rate',\n",
    "       'inc_med_hh', 'inc_per_cap', 'jobs_serv', 'jobs_manu', 'jobs_agro',\n",
    "       'jobs_unem', 'jobs_const', 'jobs_trans', 'ppl_ov65_pct', 'ppl_un18_pct',\n",
    "       'ppl_nohs_pct', 'ppl_college_pct', 'ppl_wht_pct', 'ppl_hisp_pct',\n",
    "       'ppl_bl_pct', 'at_risk']"
   ]
  },
  {
   "cell_type": "code",
   "execution_count": 33,
   "metadata": {},
   "outputs": [],
   "source": [
    "df = df[col_ord]\n",
    "new_df = new_df[col_ord]"
   ]
  },
  {
   "cell_type": "markdown",
   "metadata": {},
   "source": [
    "## Regional Dummy Variables"
   ]
  },
  {
   "cell_type": "code",
   "execution_count": 34,
   "metadata": {},
   "outputs": [],
   "source": [
    "df = pd.concat((df, pd.get_dummies(df.region, drop_first=True)), axis=1)\n",
    "new_df = pd.concat((new_df, pd.get_dummies(new_df.region, drop_first=True)), axis=1)"
   ]
  },
  {
   "cell_type": "code",
   "execution_count": 35,
   "metadata": {},
   "outputs": [],
   "source": [
    "col_ord = ['countyfips', 'county_name', 'state', 'region', 'Northeast', 'Other', 'South', 'West', \n",
    "        'coastal', 'population',\n",
    "       'ppl_popdensity', 'county_beds', 'total_cases', 'total_deaths',\n",
    "       'days_since_case1', 'days_since_death1', 'county_hospitalizations',\n",
    "       'county_testing_rate', 'cases_wk_before', 'deaths_wk_before',\n",
    "       'pcnt_inc_wk10', 'pcnt_inc_wk11', 'pcnt_inc_wk12', 'inc_pov_rate',\n",
    "       'inc_med_hh', 'inc_per_cap', 'jobs_serv', 'jobs_manu', 'jobs_agro',\n",
    "       'jobs_unem', 'jobs_const', 'jobs_trans', 'ppl_ov65_pct', 'ppl_un18_pct',\n",
    "       'ppl_nohs_pct', 'ppl_college_pct', 'ppl_wht_pct', 'ppl_hisp_pct',\n",
    "       'ppl_bl_pct', 'at_risk']"
   ]
  },
  {
   "cell_type": "code",
   "execution_count": 36,
   "metadata": {},
   "outputs": [],
   "source": [
    "df = df[col_ord]\n",
    "new_df = new_df[col_ord]"
   ]
  },
  {
   "cell_type": "markdown",
   "metadata": {},
   "source": [
    "# Splitting Data"
   ]
  },
  {
   "cell_type": "markdown",
   "metadata": {},
   "source": [
    "### Original dataframe"
   ]
  },
  {
   "cell_type": "code",
   "execution_count": 37,
   "metadata": {},
   "outputs": [],
   "source": [
    "X, y = df.iloc[:, 4:-1], df.at_risk"
   ]
  },
  {
   "cell_type": "code",
   "execution_count": 38,
   "metadata": {},
   "outputs": [],
   "source": [
    "X, X_test, y, y_test = train_test_split(X, y, test_size = 0.2, random_state=42)\n",
    "\n",
    "X_train, X_val, y_train, y_val = train_test_split(X, y, test_size=.25, random_state=42)"
   ]
  },
  {
   "cell_type": "code",
   "execution_count": 39,
   "metadata": {},
   "outputs": [],
   "source": [
    "# mask (if needed)\n",
    "train_df = X_train.copy()\n",
    "train_df['at_risk'] = y_train\n",
    "\n",
    "# at risk mask\n",
    "at_risk_mask  = (train_df['at_risk'] == 1).values"
   ]
  },
  {
   "cell_type": "markdown",
   "metadata": {},
   "source": [
    "# Dummy Model"
   ]
  },
  {
   "cell_type": "code",
   "execution_count": 40,
   "metadata": {},
   "outputs": [],
   "source": [
    "dummy_model = DummyClassifier(strategy=\"most_frequent\")"
   ]
  },
  {
   "cell_type": "code",
   "execution_count": 41,
   "metadata": {},
   "outputs": [
    {
     "data": {
      "text/plain": [
       "DummyClassifier(constant=None, random_state=None, strategy='most_frequent')"
      ]
     },
     "execution_count": 41,
     "metadata": {},
     "output_type": "execute_result"
    }
   ],
   "source": [
    "dummy_model.fit(X_train, y_train)"
   ]
  },
  {
   "cell_type": "code",
   "execution_count": 42,
   "metadata": {},
   "outputs": [
    {
     "data": {
      "text/plain": [
       "0.9585987261146497"
      ]
     },
     "execution_count": 42,
     "metadata": {},
     "output_type": "execute_result"
    }
   ],
   "source": [
    "dummy_model.score(X_val, y_val)"
   ]
  },
  {
   "cell_type": "markdown",
   "metadata": {},
   "source": [
    "Woohoo! Awesome... oh wait. No, I shouldn't be excited about this."
   ]
  },
  {
   "cell_type": "markdown",
   "metadata": {},
   "source": [
    "# Models Overview\n",
    "Getting a better idea of which models will be the best for this dataset"
   ]
  },
  {
   "cell_type": "code",
   "execution_count": 43,
   "metadata": {},
   "outputs": [],
   "source": [
    "# pipelines in order to scale data\n",
    "log_pipe = make_pipeline(StandardScaler(), LogisticRegression(solver= 'liblinear'))\n",
    "knn_pipe = make_pipeline(StandardScaler(), KNeighborsClassifier(n_neighbors=5))\n",
    "svc_linear_pipe = make_pipeline(StandardScaler(), SVC(probability=True,kernel='linear'))\n",
    "svc_rbf_pipe = make_pipeline(StandardScaler(), SVC(probability=True))\n",
    "\n",
    "# models that do not require scalling\n",
    "nbB = BernoulliNB()\n",
    "nbG = GaussianNB()\n",
    "rfc = RandomForestClassifier()"
   ]
  },
  {
   "cell_type": "code",
   "execution_count": 44,
   "metadata": {},
   "outputs": [],
   "source": [
    "models = {'Logistic':log_pipe, 'KNN': knn_pipe, 'SVC Linear': svc_linear_pipe, 'SVC rbf':svc_rbf_pipe, \n",
    "          'NB Bernoulli': nbB, 'NB Gauss ':nbG, 'Random Forest':rfc}"
   ]
  },
  {
   "cell_type": "markdown",
   "metadata": {},
   "source": [
    "## Hard predictions, no CV"
   ]
  },
  {
   "cell_type": "markdown",
   "metadata": {},
   "source": [
    "### On original dataframe"
   ]
  },
  {
   "cell_type": "code",
   "execution_count": 46,
   "metadata": {},
   "outputs": [
    {
     "name": "stdout",
     "output_type": "stream",
     "text": [
      "Logistic\n",
      "accuracy: 0.9423459244532804\n",
      "precision: 0.3333333333333333\n",
      "recall: 0.03571428571428571\n",
      "f1: 0.06451612903225806\n",
      "ROC AUC 0.7661654135338345\n",
      "\n",
      "\n",
      "KNN\n",
      "accuracy: 0.9383697813121272\n",
      "precision: 0.0\n",
      "recall: 0.0\n",
      "f1: 0.0\n",
      "ROC AUC 0.6517669172932331\n",
      "\n",
      "\n",
      "SVC Linear\n",
      "accuracy: 0.9443339960238568\n",
      "precision: 0.0\n",
      "recall: 0.0\n",
      "f1: 0.0\n",
      "ROC AUC 0.6858646616541353\n",
      "\n",
      "\n"
     ]
    },
    {
     "name": "stderr",
     "output_type": "stream",
     "text": [
      "/opt/anaconda3/envs/metis/lib/python3.7/site-packages/sklearn/metrics/_classification.py:1272: UndefinedMetricWarning: Precision is ill-defined and being set to 0.0 due to no predicted samples. Use `zero_division` parameter to control this behavior.\n",
      "  _warn_prf(average, modifier, msg_start, len(result))\n"
     ]
    },
    {
     "name": "stdout",
     "output_type": "stream",
     "text": [
      "SVC rbf\n",
      "accuracy: 0.9443339960238568\n",
      "precision: 0.0\n",
      "recall: 0.0\n",
      "f1: 0.0\n",
      "ROC AUC 0.7739097744360902\n",
      "\n",
      "\n",
      "NB Bernoulli\n",
      "accuracy: 0.7972166998011928\n",
      "precision: 0.13725490196078433\n",
      "recall: 0.5\n",
      "f1: 0.21538461538461542\n",
      "ROC AUC 0.7619172932330827\n",
      "\n",
      "\n",
      "NB Gauss \n",
      "accuracy: 0.10934393638170974\n",
      "precision: 0.04741379310344827\n",
      "recall: 0.7857142857142857\n",
      "f1: 0.08943089430894308\n",
      "ROC AUC 0.5898496240601504\n",
      "\n",
      "\n"
     ]
    },
    {
     "name": "stderr",
     "output_type": "stream",
     "text": [
      "/opt/anaconda3/envs/metis/lib/python3.7/site-packages/sklearn/metrics/_classification.py:1272: UndefinedMetricWarning: Precision is ill-defined and being set to 0.0 due to no predicted samples. Use `zero_division` parameter to control this behavior.\n",
      "  _warn_prf(average, modifier, msg_start, len(result))\n"
     ]
    },
    {
     "name": "stdout",
     "output_type": "stream",
     "text": [
      "Random Forest\n",
      "accuracy: 0.94831013916501\n",
      "precision: 0.6666666666666666\n",
      "recall: 0.14285714285714285\n",
      "f1: 0.23529411764705882\n",
      "ROC AUC 0.878796992481203\n",
      "\n",
      "\n"
     ]
    }
   ],
   "source": [
    "score_models(X, y, models, 42)"
   ]
  },
  {
   "cell_type": "markdown",
   "metadata": {},
   "source": [
    "## ROC curve and AUC for each model "
   ]
  },
  {
   "cell_type": "markdown",
   "metadata": {},
   "source": [
    "### On original dataframe"
   ]
  },
  {
   "cell_type": "code",
   "execution_count": 47,
   "metadata": {},
   "outputs": [],
   "source": [
    "def ROC_AUC(X, y, models, random_state):\n",
    "    '''Takes in features and target from a dataframe and models to fit the data to and returns\n",
    "    the ROC curve for each model.\n",
    "    \n",
    "    input:\n",
    "            X: Features from DataFrame\n",
    "            y: Target from DataFrame\n",
    "            models: dictionary of models to score\n",
    "    output: ROC Curve for each model'''\n",
    "    \n",
    "    X, X_test, y, y_test = train_test_split(X, y, test_size = 0.2, random_state=42)\n",
    "\n",
    "    X_train, X_val, y_train, y_val = train_test_split(X, y, test_size=.25, random_state=42)\n",
    "    \n",
    "    fig, ax = plt.subplots(figsize=(10,6))\n",
    "\n",
    "    for key, model in models.items():\n",
    "        model.fit(X_train, y_train)\n",
    "        fpr, tpr, thresholds = roc_curve(y_val, model.predict_proba(X_val)[:, 1])\n",
    "\n",
    "        plt.plot(fpr, tpr,lw=2)\n",
    "        print(str(key) + \" ROC AUC score = \", roc_auc_score(y_val, model.predict_proba(X_val)[:,1]))\n",
    "\n",
    "        plt.plot([0,1],[0,1],c='violet',ls='--')\n",
    "        plt.xlim([-0.05,1.05])\n",
    "        plt.ylim([-0.05,1.05])\n",
    "\n",
    "        plt.legend(labels=['Logistic', 'KNN', 'SVM Linear', 'SVM RBF', 'NB Bernoulli',\n",
    "                           'NB Gauss', 'Random Forest'])\n",
    "\n",
    "        plt.xlabel('False positive rate')\n",
    "        plt.ylabel('True positive rate')\n",
    "        plt.title('ROC Curve');  "
   ]
  },
  {
   "cell_type": "code",
   "execution_count": 48,
   "metadata": {},
   "outputs": [
    {
     "name": "stdout",
     "output_type": "stream",
     "text": [
      "Logistic ROC AUC score =  0.7661654135338345\n",
      "KNN ROC AUC score =  0.6517669172932331\n",
      "SVC Linear ROC AUC score =  0.6858646616541353\n",
      "SVC rbf ROC AUC score =  0.773609022556391\n",
      "NB Bernoulli ROC AUC score =  0.7619172932330827\n",
      "NB Gauss  ROC AUC score =  0.5898496240601504\n",
      "Random Forest ROC AUC score =  0.8765037593984962\n"
     ]
    },
    {
     "data": {
      "image/png": "[encoded data removed]",
      "text/plain": [
       "<Figure size 720x432 with 1 Axes>"
      ]
     },
     "metadata": {
      "needs_background": "light"
     },
     "output_type": "display_data"
    }
   ],
   "source": [
    "ROC_AUC(X, y, models, 42)"
   ]
  },
  {
   "cell_type": "markdown",
   "metadata": {},
   "source": [
    "## CV"
   ]
  },
  {
   "cell_type": "markdown",
   "metadata": {},
   "source": [
    "### On original dataframe"
   ]
  },
  {
   "cell_type": "code",
   "execution_count": 49,
   "metadata": {},
   "outputs": [],
   "source": [
    "def cv_scores(X, y, models, scores, folds):\n",
    "    '''Takes in features and target from a dataframe, a list of models and a list of scores, then runs\n",
    "    cv on each of the models and returns the scores.\n",
    "    input:\n",
    "        X: features\n",
    "        y: target\n",
    "        models: list of models\n",
    "        scores: desires model scores\n",
    "        folds: number of k folds\n",
    "    output: desired scores of each model'''\n",
    "    \n",
    "    for key, model in models.items():\n",
    "        print(str(key))\n",
    "        for score in scores:\n",
    "            print(score, cross_val_score(model, X, y, cv=folds, scoring=score).mean())\n",
    "    \n",
    "    "
   ]
  },
  {
   "cell_type": "code",
   "execution_count": 50,
   "metadata": {},
   "outputs": [
    {
     "name": "stdout",
     "output_type": "stream",
     "text": [
      "Logistic\n",
      "accuracy 0.9518291911718209\n"
     ]
    },
    {
     "name": "stderr",
     "output_type": "stream",
     "text": [
      "/opt/anaconda3/envs/metis/lib/python3.7/site-packages/sklearn/metrics/_classification.py:1272: UndefinedMetricWarning: Precision is ill-defined and being set to 0.0 due to no predicted samples. Use `zero_division` parameter to control this behavior.\n",
      "  _warn_prf(average, modifier, msg_start, len(result))\n",
      "/opt/anaconda3/envs/metis/lib/python3.7/site-packages/sklearn/metrics/_classification.py:1272: UndefinedMetricWarning: Precision is ill-defined and being set to 0.0 due to no predicted samples. Use `zero_division` parameter to control this behavior.\n",
      "  _warn_prf(average, modifier, msg_start, len(result))\n",
      "/opt/anaconda3/envs/metis/lib/python3.7/site-packages/sklearn/metrics/_classification.py:1272: UndefinedMetricWarning: Precision is ill-defined and being set to 0.0 due to no predicted samples. Use `zero_division` parameter to control this behavior.\n",
      "  _warn_prf(average, modifier, msg_start, len(result))\n",
      "/opt/anaconda3/envs/metis/lib/python3.7/site-packages/sklearn/metrics/_classification.py:1272: UndefinedMetricWarning: Precision is ill-defined and being set to 0.0 due to no predicted samples. Use `zero_division` parameter to control this behavior.\n",
      "  _warn_prf(average, modifier, msg_start, len(result))\n"
     ]
    },
    {
     "name": "stdout",
     "output_type": "stream",
     "text": [
      "precision 0.18333333333333332\n",
      "recall 0.026515151515151512\n",
      "f1 0.04505494505494506\n",
      "roc_auc 0.8357792754955412\n",
      "KNN\n",
      "accuracy 0.9534307215582117\n"
     ]
    },
    {
     "name": "stderr",
     "output_type": "stream",
     "text": [
      "/opt/anaconda3/envs/metis/lib/python3.7/site-packages/sklearn/metrics/_classification.py:1272: UndefinedMetricWarning: Precision is ill-defined and being set to 0.0 due to no predicted samples. Use `zero_division` parameter to control this behavior.\n",
      "  _warn_prf(average, modifier, msg_start, len(result))\n",
      "/opt/anaconda3/envs/metis/lib/python3.7/site-packages/sklearn/metrics/_classification.py:1272: UndefinedMetricWarning: Precision is ill-defined and being set to 0.0 due to no predicted samples. Use `zero_division` parameter to control this behavior.\n",
      "  _warn_prf(average, modifier, msg_start, len(result))\n",
      "/opt/anaconda3/envs/metis/lib/python3.7/site-packages/sklearn/metrics/_classification.py:1272: UndefinedMetricWarning: Precision is ill-defined and being set to 0.0 due to no predicted samples. Use `zero_division` parameter to control this behavior.\n",
      "  _warn_prf(average, modifier, msg_start, len(result))\n"
     ]
    },
    {
     "name": "stdout",
     "output_type": "stream",
     "text": [
      "precision 0.25\n",
      "recall 0.02727272727272727\n",
      "f1 0.048717948717948725\n",
      "roc_auc 0.657341953795275\n",
      "SVC Linear\n",
      "accuracy 0.9550180231455133\n"
     ]
    },
    {
     "name": "stderr",
     "output_type": "stream",
     "text": [
      "/opt/anaconda3/envs/metis/lib/python3.7/site-packages/sklearn/metrics/_classification.py:1272: UndefinedMetricWarning: Precision is ill-defined and being set to 0.0 due to no predicted samples. Use `zero_division` parameter to control this behavior.\n",
      "  _warn_prf(average, modifier, msg_start, len(result))\n",
      "/opt/anaconda3/envs/metis/lib/python3.7/site-packages/sklearn/metrics/_classification.py:1272: UndefinedMetricWarning: Precision is ill-defined and being set to 0.0 due to no predicted samples. Use `zero_division` parameter to control this behavior.\n",
      "  _warn_prf(average, modifier, msg_start, len(result))\n",
      "/opt/anaconda3/envs/metis/lib/python3.7/site-packages/sklearn/metrics/_classification.py:1272: UndefinedMetricWarning: Precision is ill-defined and being set to 0.0 due to no predicted samples. Use `zero_division` parameter to control this behavior.\n",
      "  _warn_prf(average, modifier, msg_start, len(result))\n",
      "/opt/anaconda3/envs/metis/lib/python3.7/site-packages/sklearn/metrics/_classification.py:1272: UndefinedMetricWarning: Precision is ill-defined and being set to 0.0 due to no predicted samples. Use `zero_division` parameter to control this behavior.\n",
      "  _warn_prf(average, modifier, msg_start, len(result))\n",
      "/opt/anaconda3/envs/metis/lib/python3.7/site-packages/sklearn/metrics/_classification.py:1272: UndefinedMetricWarning: Precision is ill-defined and being set to 0.0 due to no predicted samples. Use `zero_division` parameter to control this behavior.\n",
      "  _warn_prf(average, modifier, msg_start, len(result))\n",
      "/opt/anaconda3/envs/metis/lib/python3.7/site-packages/sklearn/metrics/_classification.py:1272: UndefinedMetricWarning: Precision is ill-defined and being set to 0.0 due to no predicted samples. Use `zero_division` parameter to control this behavior.\n",
      "  _warn_prf(average, modifier, msg_start, len(result))\n",
      "/opt/anaconda3/envs/metis/lib/python3.7/site-packages/sklearn/metrics/_classification.py:1272: UndefinedMetricWarning: Precision is ill-defined and being set to 0.0 due to no predicted samples. Use `zero_division` parameter to control this behavior.\n",
      "  _warn_prf(average, modifier, msg_start, len(result))\n",
      "/opt/anaconda3/envs/metis/lib/python3.7/site-packages/sklearn/metrics/_classification.py:1272: UndefinedMetricWarning: Precision is ill-defined and being set to 0.0 due to no predicted samples. Use `zero_division` parameter to control this behavior.\n",
      "  _warn_prf(average, modifier, msg_start, len(result))\n",
      "/opt/anaconda3/envs/metis/lib/python3.7/site-packages/sklearn/metrics/_classification.py:1272: UndefinedMetricWarning: Precision is ill-defined and being set to 0.0 due to no predicted samples. Use `zero_division` parameter to control this behavior.\n",
      "  _warn_prf(average, modifier, msg_start, len(result))\n",
      "/opt/anaconda3/envs/metis/lib/python3.7/site-packages/sklearn/metrics/_classification.py:1272: UndefinedMetricWarning: Precision is ill-defined and being set to 0.0 due to no predicted samples. Use `zero_division` parameter to control this behavior.\n",
      "  _warn_prf(average, modifier, msg_start, len(result))\n"
     ]
    },
    {
     "name": "stdout",
     "output_type": "stream",
     "text": [
      "precision 0.0\n",
      "recall 0.0\n",
      "f1 0.0\n",
      "roc_auc 0.7550460277460801\n",
      "SVC rbf\n",
      "accuracy 0.9550180231455133\n"
     ]
    },
    {
     "name": "stderr",
     "output_type": "stream",
     "text": [
      "/opt/anaconda3/envs/metis/lib/python3.7/site-packages/sklearn/metrics/_classification.py:1272: UndefinedMetricWarning: Precision is ill-defined and being set to 0.0 due to no predicted samples. Use `zero_division` parameter to control this behavior.\n",
      "  _warn_prf(average, modifier, msg_start, len(result))\n",
      "/opt/anaconda3/envs/metis/lib/python3.7/site-packages/sklearn/metrics/_classification.py:1272: UndefinedMetricWarning: Precision is ill-defined and being set to 0.0 due to no predicted samples. Use `zero_division` parameter to control this behavior.\n",
      "  _warn_prf(average, modifier, msg_start, len(result))\n",
      "/opt/anaconda3/envs/metis/lib/python3.7/site-packages/sklearn/metrics/_classification.py:1272: UndefinedMetricWarning: Precision is ill-defined and being set to 0.0 due to no predicted samples. Use `zero_division` parameter to control this behavior.\n",
      "  _warn_prf(average, modifier, msg_start, len(result))\n",
      "/opt/anaconda3/envs/metis/lib/python3.7/site-packages/sklearn/metrics/_classification.py:1272: UndefinedMetricWarning: Precision is ill-defined and being set to 0.0 due to no predicted samples. Use `zero_division` parameter to control this behavior.\n",
      "  _warn_prf(average, modifier, msg_start, len(result))\n",
      "/opt/anaconda3/envs/metis/lib/python3.7/site-packages/sklearn/metrics/_classification.py:1272: UndefinedMetricWarning: Precision is ill-defined and being set to 0.0 due to no predicted samples. Use `zero_division` parameter to control this behavior.\n",
      "  _warn_prf(average, modifier, msg_start, len(result))\n",
      "/opt/anaconda3/envs/metis/lib/python3.7/site-packages/sklearn/metrics/_classification.py:1272: UndefinedMetricWarning: Precision is ill-defined and being set to 0.0 due to no predicted samples. Use `zero_division` parameter to control this behavior.\n",
      "  _warn_prf(average, modifier, msg_start, len(result))\n",
      "/opt/anaconda3/envs/metis/lib/python3.7/site-packages/sklearn/metrics/_classification.py:1272: UndefinedMetricWarning: Precision is ill-defined and being set to 0.0 due to no predicted samples. Use `zero_division` parameter to control this behavior.\n",
      "  _warn_prf(average, modifier, msg_start, len(result))\n",
      "/opt/anaconda3/envs/metis/lib/python3.7/site-packages/sklearn/metrics/_classification.py:1272: UndefinedMetricWarning: Precision is ill-defined and being set to 0.0 due to no predicted samples. Use `zero_division` parameter to control this behavior.\n",
      "  _warn_prf(average, modifier, msg_start, len(result))\n",
      "/opt/anaconda3/envs/metis/lib/python3.7/site-packages/sklearn/metrics/_classification.py:1272: UndefinedMetricWarning: Precision is ill-defined and being set to 0.0 due to no predicted samples. Use `zero_division` parameter to control this behavior.\n",
      "  _warn_prf(average, modifier, msg_start, len(result))\n",
      "/opt/anaconda3/envs/metis/lib/python3.7/site-packages/sklearn/metrics/_classification.py:1272: UndefinedMetricWarning: Precision is ill-defined and being set to 0.0 due to no predicted samples. Use `zero_division` parameter to control this behavior.\n",
      "  _warn_prf(average, modifier, msg_start, len(result))\n"
     ]
    },
    {
     "name": "stdout",
     "output_type": "stream",
     "text": [
      "precision 0.0\n",
      "recall 0.0\n",
      "f1 0.0\n",
      "roc_auc 0.8240044931532904\n",
      "NB Bernoulli\n",
      "accuracy 0.7639537089736294\n",
      "precision 0.09341692570140495\n",
      "recall 0.48636363636363633\n",
      "f1 0.15652871614860678\n",
      "roc_auc 0.7467009002155447\n",
      "NB Gauss \n",
      "accuracy 0.08838139505470183\n",
      "precision 0.04437453733648662\n",
      "recall 0.9371212121212121\n",
      "f1 0.08473126285158385\n",
      "roc_auc 0.6939651219306031\n",
      "Random Forest\n",
      "accuracy 0.9589989249351799\n"
     ]
    },
    {
     "name": "stderr",
     "output_type": "stream",
     "text": [
      "/opt/anaconda3/envs/metis/lib/python3.7/site-packages/sklearn/metrics/_classification.py:1272: UndefinedMetricWarning: Precision is ill-defined and being set to 0.0 due to no predicted samples. Use `zero_division` parameter to control this behavior.\n",
      "  _warn_prf(average, modifier, msg_start, len(result))\n"
     ]
    },
    {
     "name": "stdout",
     "output_type": "stream",
     "text": [
      "precision 0.775\n",
      "recall 0.11590909090909092\n",
      "f1 0.18260073260073262\n",
      "roc_auc 0.859270595600355\n"
     ]
    }
   ],
   "source": [
    "scores = ['accuracy', 'precision', 'recall', 'f1', 'roc_auc']\n",
    "\n",
    "cv_scores(X, y, models, scores, 10)"
   ]
  },
  {
   "cell_type": "markdown",
   "metadata": {},
   "source": [
    "Also very bad. We'll have to engineer some new features and address the class imbalance. NB Gauss still has the highest F1 score."
   ]
  },
  {
   "cell_type": "markdown",
   "metadata": {},
   "source": [
    "# Adressing class imbalance"
   ]
  },
  {
   "cell_type": "markdown",
   "metadata": {},
   "source": [
    "## Function to handle CV with over/under sampling"
   ]
  },
  {
   "cell_type": "code",
   "execution_count": 54,
   "metadata": {},
   "outputs": [],
   "source": [
    "def cv_sampling(X, y, models, folds, sampler):\n",
    "    '''Takes in features, target, list of models and oversampling/undersamping object and runs cv.\n",
    "    \n",
    "    input:\n",
    "        X: features\n",
    "        y: target\n",
    "        models: list of models\n",
    "        folds: number of k folds\n",
    "        sampler: oversample, smote or undersample\n",
    "    output:\n",
    "        F1 score and AUC for each model'''\n",
    "    \n",
    "    kf = KFold(n_splits=folds, shuffle=True)\n",
    "    \n",
    "    for name, model in models.items():\n",
    "    \n",
    "        f1s = []\n",
    "        roc_aucs = []\n",
    "        X, y = np.array(X), np.array(y)\n",
    "\n",
    "        for train_ind, val_ind in kf.split(X,y):\n",
    "\n",
    "            # training and validation sets\n",
    "            X_train_cv, y_train_cv = X[train_ind], y[train_ind]\n",
    "            X_val, y_val = X[val_ind], y[val_ind] \n",
    "\n",
    "            # resampling the training data\n",
    "            X_resampled_cv, y_resampled_cv = sampler.fit_sample(X_train_cv,y_train_cv)\n",
    "\n",
    "            # fitting the model on the resampled data\n",
    "            model.fit(X_resampled_cv, y_resampled_cv)\n",
    "\n",
    "            # prediction on the validation set\n",
    "            pred = model.predict(X_val)\n",
    "\n",
    "    \n",
    "            f1s.append(f1_score(y_val, pred))\n",
    "            roc_aucs.append(roc_auc_score(y_val, model.predict_proba(X_val)[:,1]))\n",
    "\n",
    "        print(str(name)) \n",
    "        print('f1', np.mean(f1s))\n",
    "        print('ROC AUC', np.mean(roc_aucs))\n",
    "    \n",
    "    "
   ]
  },
  {
   "cell_type": "markdown",
   "metadata": {},
   "source": [
    "## Manual CV on the oversampled data"
   ]
  },
  {
   "cell_type": "code",
   "execution_count": null,
   "metadata": {},
   "outputs": [],
   "source": [
    "ros = RandomOverSampler(random_state=0)\n",
    "X_resampled, y_resampled = ros.fit_sample(X_train,y_train)"
   ]
  },
  {
   "cell_type": "code",
   "execution_count": 55,
   "metadata": {},
   "outputs": [
    {
     "name": "stdout",
     "output_type": "stream",
     "text": [
      "Logistic\n",
      "f1 0.2423309418472721\n",
      "ROC AUC 0.8650918148119429\n",
      "KNN\n",
      "f1 0.20133826787277828\n",
      "ROC AUC 0.6629031911059122\n",
      "SVC Linear\n",
      "f1 0.23714063596443494\n",
      "ROC AUC 0.8660808338936283\n",
      "SVC rbf\n",
      "f1 0.24830543545579573\n",
      "ROC AUC 0.8117964187865304\n",
      "NB Bernoulli\n",
      "f1 0.1598981509298411\n",
      "ROC AUC 0.7512269751703564\n",
      "NB Gauss \n",
      "f1 0.08538381956697833\n",
      "ROC AUC 0.6762244934058118\n",
      "Random Forest\n",
      "f1 0.1946591970121382\n",
      "ROC AUC 0.8640436543995962\n"
     ]
    }
   ],
   "source": [
    "cv_sampling(X, y, models, 10, RandomOverSampler(random_state=0))"
   ]
  },
  {
   "cell_type": "markdown",
   "metadata": {},
   "source": [
    "## SMOTE"
   ]
  },
  {
   "cell_type": "code",
   "execution_count": 59,
   "metadata": {},
   "outputs": [],
   "source": [
    "X_smoted, y_smoted = SMOTE(random_state=42).fit_sample(X_train,y_train)"
   ]
  },
  {
   "cell_type": "code",
   "execution_count": 56,
   "metadata": {},
   "outputs": [
    {
     "name": "stdout",
     "output_type": "stream",
     "text": [
      "Logistic\n",
      "f1 0.2578920028088471\n",
      "ROC AUC 0.8700903899450502\n",
      "KNN\n",
      "f1 0.1989961844042422\n",
      "ROC AUC 0.716867208337454\n",
      "SVC Linear\n",
      "f1 0.2599497337461528\n",
      "ROC AUC 0.8780534387613453\n",
      "SVC rbf\n",
      "f1 0.26275539571797457\n",
      "ROC AUC 0.8038202117664035\n",
      "NB Bernoulli\n",
      "f1 0.15671151419445292\n",
      "ROC AUC 0.7409652305485472\n",
      "NB Gauss \n",
      "f1 0.08515936564114236\n",
      "ROC AUC 0.6669010197788766\n",
      "Random Forest\n",
      "f1 0.31400523507940387\n",
      "ROC AUC 0.8833483980261526\n"
     ]
    }
   ],
   "source": [
    "cv_sampling(X, y, models, 10, SMOTE(random_state=42))"
   ]
  },
  {
   "cell_type": "markdown",
   "metadata": {},
   "source": [
    "## Under Sampling"
   ]
  },
  {
   "cell_type": "code",
   "execution_count": 179,
   "metadata": {},
   "outputs": [],
   "source": [
    "X_under, y_under = RandomUnderSampler(random_state=42).fit_sample(X_train, y_train)"
   ]
  },
  {
   "cell_type": "code",
   "execution_count": 57,
   "metadata": {},
   "outputs": [
    {
     "name": "stdout",
     "output_type": "stream",
     "text": [
      "Logistic\n",
      "f1 0.21453662547092506\n",
      "ROC AUC 0.8314667530674731\n",
      "KNN\n",
      "f1 0.14992028308807762\n",
      "ROC AUC 0.7334935344993716\n",
      "SVC Linear\n",
      "f1 0.20704244554138765\n",
      "ROC AUC 0.8216317725371438\n",
      "SVC rbf\n",
      "f1 0.2064115661604104\n",
      "ROC AUC 0.8299194758697842\n",
      "NB Bernoulli\n",
      "f1 0.15652949334594768\n",
      "ROC AUC 0.75379435468837\n",
      "NB Gauss \n",
      "f1 0.11838503513512422\n",
      "ROC AUC 0.7152748508487595\n",
      "Random Forest\n",
      "f1 0.22445237683028507\n",
      "ROC AUC 0.8731064807454908\n"
     ]
    }
   ],
   "source": [
    "cv_sampling(X, y, models, 10, RandomUnderSampler(random_state=42))"
   ]
  },
  {
   "cell_type": "markdown",
   "metadata": {},
   "source": [
    "Smote seems to work the best (by a small amount) for handling class imbalance."
   ]
  },
  {
   "cell_type": "markdown",
   "metadata": {},
   "source": [
    "# Threshold Adjustment"
   ]
  },
  {
   "cell_type": "code",
   "execution_count": 60,
   "metadata": {},
   "outputs": [
    {
     "name": "stdout",
     "output_type": "stream",
     "text": [
      "Logistic best F1 score 0.328 at prob decision threshold >= 0.811\n",
      "KNN best F1 score 0.159 at prob decision threshold >= 0.200\n",
      "SVC Linear best F1 score 0.348 at prob decision threshold >= 0.896\n",
      "SVC rbf best F1 score 0.278 at prob decision threshold >= 0.507\n",
      "NB Bernoulli best F1 score 0.161 at prob decision threshold >= 0.806\n",
      "NB Gauss  best F1 score 0.080 at prob decision threshold >= 0.596\n",
      "Random Forest best F1 score 0.367 at prob decision threshold >= 0.440\n"
     ]
    }
   ],
   "source": [
    "# loop through the models and find the optimal threshold for each\n",
    "\n",
    "for key, model in models.items():\n",
    "    model.fit(X_smoted, y_smoted)\n",
    "\n",
    "    thresh_ps = np.linspace(.10,.90,1000)\n",
    "    model_val_probs = model.predict_proba(X_val)[:,1] # positive class probs, same basic logistic model we fit in section 2 \n",
    "\n",
    "    f1_scores, prec_scores, rec_scores, acc_scores = [], [], [], []\n",
    "    for p in thresh_ps:\n",
    "        model_val_labels = model_val_probs >= p\n",
    "        f1_scores.append(f1_score(y_val, model_val_labels))    \n",
    "        prec_scores.append(precision_score(y_val, model_val_labels, zero_division=1))\n",
    "        rec_scores.append(recall_score(y_val, model_val_labels))\n",
    "        acc_scores.append(accuracy_score(y_val, model_val_labels))\n",
    "\n",
    "    best_recall_score = np.max(rec_scores)\n",
    "    best_f1_score = np.max(f1_scores) \n",
    "    best_thresh_p = thresh_ps[np.argmax(f1_scores)]\n",
    "    \n",
    "    print(str(key) + ' best F1 score %.3f at prob decision threshold >= %.3f' \n",
    "          % (best_f1_score, best_thresh_p))"
   ]
  },
  {
   "cell_type": "markdown",
   "metadata": {},
   "source": [
    "## Models with the most potential:\n",
    "- Random Forest\n",
    "- SVC RBF\n",
    "- Logistic\n",
    "- SVC Linear"
   ]
  },
  {
   "cell_type": "code",
   "execution_count": 61,
   "metadata": {},
   "outputs": [],
   "source": [
    "best_models = {'Logistic':log_pipe,'SVC Linear': svc_linear_pipe, 'SVC rbf':svc_rbf_pipe, 'Random Forest':rfc}"
   ]
  },
  {
   "cell_type": "markdown",
   "metadata": {},
   "source": [
    "# More Feature Engineering"
   ]
  },
  {
   "cell_type": "markdown",
   "metadata": {},
   "source": [
    "## Percentage population non-white\n",
    "Instead of just looking at percentage white, hispanic, black, I will also include a column for population of people in a county who are non-white."
   ]
  },
  {
   "cell_type": "code",
   "execution_count": 62,
   "metadata": {},
   "outputs": [],
   "source": [
    "new_df['ppl_non_wht'] = 100 - new_df.ppl_wht_pct"
   ]
  },
  {
   "cell_type": "code",
   "execution_count": 63,
   "metadata": {},
   "outputs": [],
   "source": [
    "# setting a applying new column order\n",
    "\n",
    "col_ord = ['countyfips', 'county_name', 'state', 'region', 'Northeast', 'Other',\n",
    "       'South', 'West', 'coastal', 'population', 'ppl_popdensity',\n",
    "       'county_beds', 'total_cases', 'total_deaths', 'days_since_case1',\n",
    "       'days_since_death1', 'county_hospitalizations', 'county_testing_rate',\n",
    "       'cases_wk_before', 'deaths_wk_before', 'pcnt_inc_wk10', 'pcnt_inc_wk11',\n",
    "       'pcnt_inc_wk12', 'inc_pov_rate', 'inc_med_hh', 'inc_per_cap',\n",
    "       'jobs_serv', 'jobs_manu', 'jobs_agro', 'jobs_unem', 'jobs_const',\n",
    "       'jobs_trans', 'ppl_ov65_pct', 'ppl_un18_pct', 'ppl_nohs_pct',\n",
    "       'ppl_college_pct', 'ppl_wht_pct', 'ppl_hisp_pct', 'ppl_bl_pct', 'ppl_non_wht',\n",
    "       'at_risk']\n",
    "\n",
    "new_df = new_df[col_ord]"
   ]
  },
  {
   "cell_type": "markdown",
   "metadata": {},
   "source": [
    "## Cases and Deaths per capita\n",
    "Instead of looking at totals for number of cases and deaths due to covid-19 per county, it may be better to adjust for population size. Same thing for hospital beds."
   ]
  },
  {
   "cell_type": "code",
   "execution_count": 64,
   "metadata": {},
   "outputs": [],
   "source": [
    "# creating columns for total cases and deaths per 100,000 people in each county. \n",
    "# This could be a better indicator comparing numbers across county.\n",
    "\n",
    "new_df['tot_cases_percap'] = (new_df.total_cases / new_df.population) * 100000\n",
    "new_df['tot_deaths_percap'] = (new_df.total_deaths / new_df.population) * 100000"
   ]
  },
  {
   "cell_type": "code",
   "execution_count": 65,
   "metadata": {},
   "outputs": [],
   "source": [
    "# rouding up to the nearest integer\n",
    "\n",
    "new_df.tot_cases_percap = new_df.tot_cases_percap.apply(np.ceil)\n",
    "new_df.tot_deaths_percap = new_df.tot_deaths_percap.apply(np.ceil)"
   ]
  },
  {
   "cell_type": "code",
   "execution_count": 66,
   "metadata": {},
   "outputs": [],
   "source": [
    "# setting a applying new col order\n",
    "col_ord = ['countyfips', 'county_name', 'state', 'region', 'Northeast', 'Other',\n",
    "       'South', 'West', 'coastal', 'population', 'ppl_popdensity',\n",
    "       'county_beds', 'total_cases', 'total_deaths', 'tot_cases_percap', 'tot_deaths_percap', 'days_since_case1',\n",
    "       'days_since_death1', 'county_hospitalizations', 'county_testing_rate',\n",
    "       'cases_wk_before', 'deaths_wk_before', 'pcnt_inc_wk10', 'pcnt_inc_wk11',\n",
    "       'pcnt_inc_wk12', 'inc_pov_rate', 'inc_med_hh', 'inc_per_cap',\n",
    "       'jobs_serv', 'jobs_manu', 'jobs_agro', 'jobs_unem', 'jobs_const',\n",
    "       'jobs_trans', 'ppl_ov65_pct', 'ppl_un18_pct', 'ppl_nohs_pct',\n",
    "       'ppl_college_pct', 'ppl_wht_pct', 'ppl_hisp_pct', 'ppl_bl_pct',\n",
    "       'ppl_non_wht', 'at_risk']\n",
    "\n",
    "new_df = new_df[col_ord]"
   ]
  },
  {
   "cell_type": "markdown",
   "metadata": {},
   "source": [
    "## Other new features to consider"
   ]
  },
  {
   "cell_type": "markdown",
   "metadata": {},
   "source": [
    "### At risk groups"
   ]
  },
  {
   "cell_type": "code",
   "execution_count": 67,
   "metadata": {},
   "outputs": [],
   "source": [
    "new_df['pct_at_risk_group'] = new_df.ppl_bl_pct + new_df.ppl_hisp_pct + new_df.ppl_ov65_pct"
   ]
  },
  {
   "cell_type": "code",
   "execution_count": 68,
   "metadata": {},
   "outputs": [],
   "source": [
    "new_df['cases_deaths'] = new_df.total_cases + new_df.total_deaths"
   ]
  },
  {
   "cell_type": "code",
   "execution_count": 69,
   "metadata": {},
   "outputs": [],
   "source": [
    "new_df['cases_per_day'] = new_df.tot_cases_percap / new_df.days_since_case1"
   ]
  },
  {
   "cell_type": "code",
   "execution_count": 70,
   "metadata": {},
   "outputs": [],
   "source": [
    "col_ord = ['countyfips', 'county_name', 'state', 'region', 'Northeast', 'Other',\n",
    "       'South', 'West', 'coastal', 'population', 'ppl_popdensity',\n",
    "       'county_beds', 'total_cases', 'total_deaths', 'tot_cases_percap',\n",
    "       'tot_deaths_percap', 'days_since_case1', 'days_since_death1',\n",
    "       'county_hospitalizations', 'county_testing_rate', 'cases_wk_before',\n",
    "       'deaths_wk_before', 'pcnt_inc_wk10', 'pcnt_inc_wk11', 'pcnt_inc_wk12',\n",
    "       'inc_pov_rate', 'inc_med_hh', 'inc_per_cap', 'jobs_serv', 'jobs_manu',\n",
    "       'jobs_agro', 'jobs_unem', 'jobs_const', 'jobs_trans', 'ppl_ov65_pct',\n",
    "       'ppl_un18_pct', 'ppl_nohs_pct', 'ppl_college_pct', 'ppl_wht_pct',\n",
    "       'ppl_hisp_pct', 'ppl_bl_pct', 'ppl_non_wht',\n",
    "       'pct_at_risk_group', 'cases_deaths', 'cases_per_day', 'at_risk']"
   ]
  },
  {
   "cell_type": "code",
   "execution_count": 71,
   "metadata": {},
   "outputs": [],
   "source": [
    "new_df = new_df[col_ord]"
   ]
  },
  {
   "cell_type": "code",
   "execution_count": 72,
   "metadata": {},
   "outputs": [],
   "source": [
    "new_df.cases_per_day = new_df.cases_per_day.fillna(new_df.cases_per_day.mean())"
   ]
  },
  {
   "cell_type": "code",
   "execution_count": 73,
   "metadata": {},
   "outputs": [],
   "source": [
    "new_df.pcnt_inc_wk12.replace(np.inf, new_df.pcnt_inc_wk12.median(), inplace=True)\n",
    "new_df.pcnt_inc_wk12.replace(np.nan, 0, inplace=True)\n"
   ]
  },
  {
   "cell_type": "markdown",
   "metadata": {},
   "source": [
    "## Splitting with new features"
   ]
  },
  {
   "cell_type": "code",
   "execution_count": 74,
   "metadata": {},
   "outputs": [],
   "source": [
    "X_new, y_new = new_df.iloc[:, 4:-1], new_df.at_risk\n",
    "\n",
    "X_new, X_test_new, y_new, y_test_new = train_test_split(X_new, y_new, test_size = 0.2, random_state=42)\n",
    "\n",
    "X_train_new, X_val_new, y_train_new, y_val_new = train_test_split(X_new, y_new, test_size=.25, random_state=42)"
   ]
  },
  {
   "cell_type": "code",
   "execution_count": 75,
   "metadata": {},
   "outputs": [
    {
     "name": "stdout",
     "output_type": "stream",
     "text": [
      "Logistic\n",
      "f1 0.2513254499540756\n",
      "ROC AUC 0.861491137883206\n",
      "SVC Linear\n",
      "f1 0.26757413367208743\n",
      "ROC AUC 0.864141132344401\n",
      "SVC rbf\n",
      "f1 0.2648513726175905\n",
      "ROC AUC 0.7953501520281856\n",
      "Random Forest\n",
      "f1 0.3020871731921976\n",
      "ROC AUC 0.8791413387459042\n"
     ]
    }
   ],
   "source": [
    "cv_sampling(X_new, y_new, best_models, 10, SMOTE(random_state=42))"
   ]
  },
  {
   "cell_type": "markdown",
   "metadata": {},
   "source": [
    "It looks like the F1 scores went slightly down."
   ]
  },
  {
   "cell_type": "markdown",
   "metadata": {},
   "source": [
    "## Threshold Adjustment\n",
    "Let's see if the model's potential goes up with the new features added in."
   ]
  },
  {
   "cell_type": "code",
   "execution_count": 76,
   "metadata": {},
   "outputs": [],
   "source": [
    "X_new_smoted, y_new_smoted = SMOTE(random_state=42).fit_sample(X_train_new,y_train_new)"
   ]
  },
  {
   "cell_type": "code",
   "execution_count": 77,
   "metadata": {},
   "outputs": [
    {
     "name": "stdout",
     "output_type": "stream",
     "text": [
      "Logistic best F1 score 0.327 at prob decision threshold >= 0.875\n",
      "SVC Linear best F1 score 0.367 at prob decision threshold >= 0.898\n",
      "SVC rbf best F1 score 0.289 at prob decision threshold >= 0.404\n",
      "Random Forest best F1 score 0.394 at prob decision threshold >= 0.431\n"
     ]
    }
   ],
   "source": [
    "# loop through the best models and find the optimal threshold for each\n",
    "\n",
    "for key, model in best_models.items():\n",
    "    model.fit(X_new_smoted, y_new_smoted)\n",
    "\n",
    "    thresh_ps = np.linspace(.10,.90,1000)\n",
    "    model_val_probs = model.predict_proba(X_val_new)[:,1]\n",
    "\n",
    "    f1_scores, prec_scores, rec_scores, acc_scores = [], [], [], []\n",
    "    for p in thresh_ps:\n",
    "        model_val_labels = model_val_probs >= p\n",
    "        f1_scores.append(f1_score(y_val_new, model_val_labels))    \n",
    "        prec_scores.append(precision_score(y_val_new, model_val_labels, zero_division=1))\n",
    "        rec_scores.append(recall_score(y_val_new, model_val_labels))\n",
    "        acc_scores.append(accuracy_score(y_val_new, model_val_labels))\n",
    "\n",
    "    \n",
    "    best_f1_score = np.max(f1_scores) \n",
    "    best_thresh_p = thresh_ps[np.argmax(f1_scores)]\n",
    "\n",
    "    print(str(key) + ' best F1 score %.3f at prob decision threshold >= %.3f' \n",
    "          % (best_f1_score, best_thresh_p))"
   ]
  },
  {
   "cell_type": "markdown",
   "metadata": {},
   "source": [
    "But the best F1 score here went up from before..."
   ]
  },
  {
   "cell_type": "markdown",
   "metadata": {},
   "source": [
    "# Model tuning"
   ]
  },
  {
   "cell_type": "markdown",
   "metadata": {},
   "source": [
    "## Function to handle tuning"
   ]
  },
  {
   "cell_type": "code",
   "execution_count": 79,
   "metadata": {},
   "outputs": [],
   "source": [
    "def grid_search(X, y, pipeline, param_grid, score, cv=10, refit=False):\n",
    "    \n",
    "    '''Takes in data and a pipeline and returns the optimal paremters and best score.'''\n",
    "    \n",
    "    grid_search = GridSearchCV(pipeline, param_grid=param_grid, scoring=score, cv=cv, refit=refit)\n",
    "    grid_search.fit(X, y)\n",
    "    \n",
    "    print('Best paremters:', grid_search.best_params_)\n",
    "    print('Best score:', grid_search.best_score_)\n"
   ]
  },
  {
   "cell_type": "markdown",
   "metadata": {},
   "source": [
    "## Logistic"
   ]
  },
  {
   "cell_type": "code",
   "execution_count": 80,
   "metadata": {},
   "outputs": [],
   "source": [
    "logit_steps = [('scale', StandardScaler()), ('smoting', SMOTE(random_state=42)), \n",
    "               ('model', LogisticRegression(solver= 'liblinear'))]\n",
    "\n",
    "logit_pipe = Pipeline(logit_steps)\n",
    "\n",
    "logit_params = {'model__penalty': ['l1', 'l2'], 'model__C':[100, 1000], \n",
    "                'model__class_weight': ['balanced', None]}"
   ]
  },
  {
   "cell_type": "code",
   "execution_count": 81,
   "metadata": {},
   "outputs": [
    {
     "name": "stdout",
     "output_type": "stream",
     "text": [
      "Best paremters: {'model__C': 100, 'model__class_weight': 'balanced', 'model__penalty': 'l2'}\n",
      "Best score: 0.25942866345509175\n"
     ]
    }
   ],
   "source": [
    "grid_search(X, y, logit_pipe, logit_params, 'f1')"
   ]
  },
  {
   "cell_type": "markdown",
   "metadata": {},
   "source": [
    "Things were a bit interesting as I was able to adjust C from the default of 1."
   ]
  },
  {
   "cell_type": "markdown",
   "metadata": {},
   "source": [
    "## Random Forest"
   ]
  },
  {
   "cell_type": "code",
   "execution_count": 82,
   "metadata": {},
   "outputs": [],
   "source": [
    "rf_steps = [('smoting', SMOTE(random_state=42)), ('model', RandomForestClassifier())]\n",
    "\n",
    "rf_pipe = Pipeline(rf_steps)\n",
    "\n",
    "rf_params = {'model__n_estimators': [80, 90, 100, 110, 120], \n",
    "                'model__max_features': ['auto', 'log2'], \n",
    "                 'model__class_weight': ['balanced', 'balanced_subsample']}"
   ]
  },
  {
   "cell_type": "code",
   "execution_count": 83,
   "metadata": {},
   "outputs": [
    {
     "name": "stdout",
     "output_type": "stream",
     "text": [
      "Best paremters: {'model__class_weight': 'balanced', 'model__max_features': 'log2', 'model__n_estimators': 90}\n",
      "Best score: 0.3458394084938707\n"
     ]
    }
   ],
   "source": [
    "grid_search(X, y, rf_pipe, rf_params, 'f1')"
   ]
  },
  {
   "cell_type": "markdown",
   "metadata": {},
   "source": [
    "Things got a bit interesting here as I was able to adjust the number of estimators from the default of 100."
   ]
  },
  {
   "cell_type": "markdown",
   "metadata": {},
   "source": [
    "## SVC Linear/RBF"
   ]
  },
  {
   "cell_type": "code",
   "execution_count": 178,
   "metadata": {},
   "outputs": [],
   "source": [
    "svc_steps = [('scale', StandardScaler()), ('smoting', SMOTE(random_state=42)), \n",
    "               ('model', SVC(probability=True))]\n",
    "\n",
    "svc_pipe = Pipeline(svc_steps)\n",
    "\n",
    "svc_params = {'model__C':[0.1, 1, 10, 100], 'model__kernel': ['linear', 'rbf'],      \n",
    "              'model__gamma': ['scale', 'auto']}"
   ]
  },
  {
   "cell_type": "code",
   "execution_count": null,
   "metadata": {},
   "outputs": [],
   "source": [
    "grid_search(X_new, y_new, svc_pipe, svc_params, 'f1')"
   ]
  },
  {
   "cell_type": "markdown",
   "metadata": {},
   "source": [
    "Not much going on here, these are essentially the defaults and no improvement. NOT going to run this again since it takes SO LONG."
   ]
  },
  {
   "cell_type": "markdown",
   "metadata": {},
   "source": [
    "# Confusion Matrix and Final Model"
   ]
  },
  {
   "cell_type": "markdown",
   "metadata": {},
   "source": [
    "One last check on the appropriate threshold for random forest, which had been my best model."
   ]
  },
  {
   "cell_type": "code",
   "execution_count": 299,
   "metadata": {},
   "outputs": [],
   "source": [
    "X_new, y_new = new_df.iloc[:, 4:-1], new_df.at_risk\n",
    "\n",
    "X_new, X_test_new, y_new, y_test_new = train_test_split(X_new, y_new, test_size = 0.2)\n",
    "\n",
    "X_train_new, X_val_new, y_train_new, y_val_new = train_test_split(X_new, y_new, test_size=.25, random_state=42)"
   ]
  },
  {
   "cell_type": "code",
   "execution_count": 103,
   "metadata": {},
   "outputs": [
    {
     "name": "stdout",
     "output_type": "stream",
     "text": [
      "Random Forest best F1 score 0.343 at prob decision threshold >= 0.411\n"
     ]
    }
   ],
   "source": [
    "rf_pipe.fit(X_train_new, y_train_new)\n",
    "\n",
    "thresh_ps = np.linspace(.10,.90,1000)\n",
    "model_val_probs = rf_pipe.predict_proba(X_val_new)[:,1]\n",
    "\n",
    "f1_scores, prec_scores, rec_scores, acc_scores = [], [], [], []\n",
    "for p in thresh_ps:\n",
    "    model_val_labels = model_val_probs >= p\n",
    "    f1_scores.append(f1_score(y_val_new, model_val_labels))    \n",
    "    prec_scores.append(precision_score(y_val_new, model_val_labels, zero_division=1))\n",
    "    rec_scores.append(recall_score(y_val_new, model_val_labels))\n",
    "    acc_scores.append(accuracy_score(y_val_new, model_val_labels))\n",
    "\n",
    "best_f1_score = np.max(f1_scores) \n",
    "best_thresh_p = thresh_ps[np.argmax(f1_scores)]\n",
    "\n",
    "print('Random Forest best F1 score %.3f at prob decision threshold >= %.3f' \n",
    "      % (best_f1_score, best_thresh_p))"
   ]
  },
  {
   "cell_type": "code",
   "execution_count": 214,
   "metadata": {},
   "outputs": [],
   "source": [
    "rf_steps = [('smote', SMOTE(random_state=42)), \n",
    "            ('model', RandomForestClassifier(class_weight='balanced_subsample', max_features='auto', \n",
    "                                             n_estimators=100))]\n",
    "\n",
    "rf_pipe = Pipeline(rf_steps)\n"
   ]
  },
  {
   "cell_type": "code",
   "execution_count": 104,
   "metadata": {},
   "outputs": [
    {
     "name": "stdout",
     "output_type": "stream",
     "text": [
      "F1 score: 0.32786885245901637\n"
     ]
    },
    {
     "data": {
      "image/png": "[encoded data removed]",
      "text/plain": [
       "<Figure size 480x320 with 2 Axes>"
      ]
     },
     "metadata": {
      "needs_background": "light"
     },
     "output_type": "display_data"
    }
   ],
   "source": [
    "make_confusion_matrix(X_new, y_new, rf_pipe, 0.411, 42)"
   ]
  },
  {
   "cell_type": "markdown",
   "metadata": {},
   "source": [
    "# A bit more: Exploring feature selection with Random Forest"
   ]
  },
  {
   "cell_type": "code",
   "execution_count": 105,
   "metadata": {},
   "outputs": [],
   "source": [
    "# Most important features\n",
    "\n",
    "X_new, y_new = new_df.iloc[:, 4:-1], new_df.at_risk\n",
    "\n",
    "X_new, X_test_new, y_new, y_test_new = train_test_split(X_new, y_new, test_size = 0.2, random_state=42)\n",
    "\n",
    "X_train_new, X_val_new, y_train_new, y_val_new = train_test_split(X_new, y_new, test_size=.25, random_state=42)"
   ]
  },
  {
   "cell_type": "code",
   "execution_count": 106,
   "metadata": {},
   "outputs": [],
   "source": [
    "rf_pipe.fit(X_train_new, y_train_new)\n",
    "\n",
    "features = rf_pipe.steps[1][1].feature_importances_\n",
    "\n",
    "feature_importance = list(zip(features, X_train_new.columns ))"
   ]
  },
  {
   "cell_type": "code",
   "execution_count": 107,
   "metadata": {},
   "outputs": [
    {
     "data": {
      "text/plain": [
       "[(0.10850238446113902, 'pcnt_inc_wk12'),\n",
       " (0.09510895241300467, 'total_cases'),\n",
       " (0.09396070166376669, 'cases_wk_before'),\n",
       " (0.06333829784245995, 'cases_deaths'),\n",
       " (0.05607370559889921, 'tot_cases_percap'),\n",
       " (0.04913116310498371, 'county_beds'),\n",
       " (0.036697705495548356, 'population'),\n",
       " (0.036361874609914774, 'pcnt_inc_wk11'),\n",
       " (0.0285307195965537, 'ppl_popdensity'),\n",
       " (0.02714464077199392, 'tot_deaths_percap'),\n",
       " (0.026584198716875552, 'county_testing_rate'),\n",
       " (0.0234857340220085, 'county_hospitalizations'),\n",
       " (0.021841460025566067, 'ppl_hisp_pct'),\n",
       " (0.02044238552851863, 'ppl_bl_pct'),\n",
       " (0.01731496129161343, 'pcnt_inc_wk10'),\n",
       " (0.01665322111516875, 'jobs_const'),\n",
       " (0.015810989850540188, 'South'),\n",
       " (0.015467521372827177, 'inc_pov_rate'),\n",
       " (0.015418187756326768, 'jobs_agro'),\n",
       " (0.014631684761112141, 'ppl_ov65_pct'),\n",
       " (0.0144825158022431, 'ppl_wht_pct'),\n",
       " (0.014402660586962868, 'days_since_death1'),\n",
       " (0.01423952752205865, 'jobs_trans'),\n",
       " (0.014236972418444283, 'ppl_non_wht'),\n",
       " (0.01389492117448216, 'jobs_manu'),\n",
       " (0.013648227660808239, 'cases_per_day'),\n",
       " (0.013190219299546592, 'pct_at_risk_group'),\n",
       " (0.013161342520107332, 'ppl_nohs_pct'),\n",
       " (0.012160893771668046, 'days_since_case1'),\n",
       " (0.01215960080181417, 'jobs_unem'),\n",
       " (0.010685654944856508, 'inc_med_hh'),\n",
       " (0.01051463223639728, 'Northeast'),\n",
       " (0.009708665893315647, 'jobs_serv'),\n",
       " (0.009095927877555903, 'inc_per_cap'),\n",
       " (0.008825222442409514, 'ppl_un18_pct'),\n",
       " (0.008101649830136034, 'total_deaths'),\n",
       " (0.008028653214800155, 'ppl_college_pct'),\n",
       " (0.007725814674611492, 'West'),\n",
       " (0.005484806927279398, 'deaths_wk_before'),\n",
       " (0.0036890984525806965, 'coastal'),\n",
       " (6.250194910076837e-05, 'Other')]"
      ]
     },
     "execution_count": 107,
     "metadata": {},
     "output_type": "execute_result"
    }
   ],
   "source": [
    "sorted(feature_importance, reverse=True)"
   ]
  },
  {
   "cell_type": "code",
   "execution_count": 108,
   "metadata": {},
   "outputs": [],
   "source": [
    "rf_steps = [('smote', SMOTE(random_state=42)), \n",
    "            ('model', RandomForestClassifier(class_weight='balanced_subsample', max_features='auto', \n",
    "                                             n_estimators=100))]\n",
    "\n",
    "rf_pipe = Pipeline(rf_steps)\n"
   ]
  },
  {
   "cell_type": "code",
   "execution_count": 109,
   "metadata": {},
   "outputs": [
    {
     "data": {
      "text/plain": [
       "Index(['population', 'ppl_popdensity', 'county_beds', 'total_cases',\n",
       "       'tot_cases_percap', 'county_testing_rate', 'cases_wk_before',\n",
       "       'pcnt_inc_wk11', 'pcnt_inc_wk12', 'ppl_hisp_pct', 'cases_deaths'],\n",
       "      dtype='object')"
      ]
     },
     "execution_count": 109,
     "metadata": {},
     "output_type": "execute_result"
    }
   ],
   "source": [
    "X_smoted, y_smoted = SMOTE(random_state=42).fit_sample(X_train_new,y_train_new)\n",
    "\n",
    "rfm_fe = SelectFromModel(RandomForestClassifier(class_weight='balanced_subsample', max_features='auto', \n",
    "                                             n_estimators=100))\n",
    "\n",
    "rfm_fe.fit(X_smoted, y_smoted)\n",
    "\n",
    "rfm_fe.get_support()\n",
    "\n",
    "selected_feat= X_train_new.columns[(rfm_fe.get_support())]\n",
    "\n",
    "selected_feat"
   ]
  },
  {
   "cell_type": "code",
   "execution_count": 110,
   "metadata": {},
   "outputs": [],
   "source": [
    "best_features_df = new_df[['ppl_popdensity', 'cases_wk_before', 'pcnt_inc_wk12', 'tot_deaths_percap',\n",
    "                           'tot_cases_percap', 'county_testing_rate', 'ppl_hisp_pct', 'ppl_bl_pct', \n",
    "                            'county_hospitalizations', 'at_risk']]"
   ]
  },
  {
   "cell_type": "code",
   "execution_count": 111,
   "metadata": {},
   "outputs": [],
   "source": [
    "rf_cv = RandomForestClassifier(class_weight='balanced_subsample', max_features='auto', n_estimators=100)"
   ]
  },
  {
   "cell_type": "code",
   "execution_count": 112,
   "metadata": {},
   "outputs": [],
   "source": [
    "X, y = best_features_df.iloc[:, 4:-1], best_features_df.at_risk"
   ]
  },
  {
   "cell_type": "code",
   "execution_count": 114,
   "metadata": {},
   "outputs": [
    {
     "name": "stdout",
     "output_type": "stream",
     "text": [
      "Logistic\n",
      "f1 0.16948713654288378\n",
      "ROC AUC 0.7897963069087789\n",
      "SVC Linear\n",
      "f1 0.1606324107631371\n",
      "ROC AUC 0.7806911859536039\n",
      "SVC rbf\n",
      "f1 0.20118472217709787\n",
      "ROC AUC 0.8219505326828187\n",
      "Random Forest\n",
      "f1 0.2179534314184334\n",
      "ROC AUC 0.8180259671135641\n"
     ]
    }
   ],
   "source": [
    "cv_sampling(X, y, best_models, 10, SMOTE(random_state=42))"
   ]
  },
  {
   "cell_type": "markdown",
   "metadata": {},
   "source": [
    "Reducing the number of features to only the \"best\" ones does not improve the model."
   ]
  },
  {
   "cell_type": "markdown",
   "metadata": {},
   "source": [
    "# Data for Tableau visualization"
   ]
  },
  {
   "cell_type": "code",
   "execution_count": 136,
   "metadata": {},
   "outputs": [],
   "source": [
    "X, y = new_df.iloc[:, 4:-1], new_df.at_risk"
   ]
  },
  {
   "cell_type": "code",
   "execution_count": 137,
   "metadata": {},
   "outputs": [],
   "source": [
    "rf_pipe.fit(X, y)\n",
    "\n",
    "new_df['Risk Level'] = rf_pipe.predict_proba(X)[:,1]\n"
   ]
  },
  {
   "cell_type": "code",
   "execution_count": 138,
   "metadata": {},
   "outputs": [],
   "source": [
    "new_df['Risk Level'] = new_df['Risk Level']*100"
   ]
  },
  {
   "cell_type": "code",
   "execution_count": 140,
   "metadata": {},
   "outputs": [],
   "source": [
    "new_df.to_csv('viz_data.csv')"
   ]
  },
  {
   "cell_type": "markdown",
   "metadata": {},
   "source": [
    "# Mini model to pickle"
   ]
  },
  {
   "cell_type": "code",
   "execution_count": 54,
   "metadata": {},
   "outputs": [
    {
     "data": {
      "text/html": [
       "<div>\n",
       "<style scoped>\n",
       "    .dataframe tbody tr th:only-of-type {\n",
       "        vertical-align: middle;\n",
       "    }\n",
       "\n",
       "    .dataframe tbody tr th {\n",
       "        vertical-align: top;\n",
       "    }\n",
       "\n",
       "    .dataframe thead th {\n",
       "        text-align: right;\n",
       "    }\n",
       "</style>\n",
       "<table border=\"1\" class=\"dataframe\">\n",
       "  <thead>\n",
       "    <tr style=\"text-align: right;\">\n",
       "      <th></th>\n",
       "      <th>countyfips</th>\n",
       "      <th>Northeast</th>\n",
       "      <th>Other</th>\n",
       "      <th>South</th>\n",
       "      <th>West</th>\n",
       "      <th>coastal</th>\n",
       "      <th>population</th>\n",
       "      <th>ppl_popdensity</th>\n",
       "      <th>county_beds</th>\n",
       "      <th>total_cases</th>\n",
       "      <th>total_deaths</th>\n",
       "      <th>tot_cases_percap</th>\n",
       "      <th>tot_deaths_percap</th>\n",
       "      <th>days_since_case1</th>\n",
       "      <th>days_since_death1</th>\n",
       "      <th>county_hospitalizations</th>\n",
       "      <th>county_testing_rate</th>\n",
       "      <th>cases_wk_before</th>\n",
       "      <th>deaths_wk_before</th>\n",
       "      <th>pcnt_inc_wk10</th>\n",
       "      <th>pcnt_inc_wk11</th>\n",
       "      <th>pcnt_inc_wk12</th>\n",
       "      <th>inc_pov_rate</th>\n",
       "      <th>inc_med_hh</th>\n",
       "      <th>inc_per_cap</th>\n",
       "      <th>jobs_serv</th>\n",
       "      <th>jobs_manu</th>\n",
       "      <th>jobs_agro</th>\n",
       "      <th>jobs_unem</th>\n",
       "      <th>jobs_const</th>\n",
       "      <th>jobs_trans</th>\n",
       "      <th>ppl_ov65_pct</th>\n",
       "      <th>ppl_un18_pct</th>\n",
       "      <th>ppl_nohs_pct</th>\n",
       "      <th>ppl_college_pct</th>\n",
       "      <th>ppl_wht_pct</th>\n",
       "      <th>ppl_hisp_pct</th>\n",
       "      <th>ppl_bl_pct</th>\n",
       "      <th>ppl_non_wht</th>\n",
       "      <th>pct_at_risk_group</th>\n",
       "      <th>cases_deaths</th>\n",
       "      <th>cases_per_day</th>\n",
       "    </tr>\n",
       "    <tr>\n",
       "      <th>at_risk</th>\n",
       "      <th></th>\n",
       "      <th></th>\n",
       "      <th></th>\n",
       "      <th></th>\n",
       "      <th></th>\n",
       "      <th></th>\n",
       "      <th></th>\n",
       "      <th></th>\n",
       "      <th></th>\n",
       "      <th></th>\n",
       "      <th></th>\n",
       "      <th></th>\n",
       "      <th></th>\n",
       "      <th></th>\n",
       "      <th></th>\n",
       "      <th></th>\n",
       "      <th></th>\n",
       "      <th></th>\n",
       "      <th></th>\n",
       "      <th></th>\n",
       "      <th></th>\n",
       "      <th></th>\n",
       "      <th></th>\n",
       "      <th></th>\n",
       "      <th></th>\n",
       "      <th></th>\n",
       "      <th></th>\n",
       "      <th></th>\n",
       "      <th></th>\n",
       "      <th></th>\n",
       "      <th></th>\n",
       "      <th></th>\n",
       "      <th></th>\n",
       "      <th></th>\n",
       "      <th></th>\n",
       "      <th></th>\n",
       "      <th></th>\n",
       "      <th></th>\n",
       "      <th></th>\n",
       "      <th></th>\n",
       "      <th></th>\n",
       "      <th></th>\n",
       "    </tr>\n",
       "  </thead>\n",
       "  <tbody>\n",
       "    <tr>\n",
       "      <th>0</th>\n",
       "      <td>30530.827655</td>\n",
       "      <td>0.071783</td>\n",
       "      <td>0.010916</td>\n",
       "      <td>0.445253</td>\n",
       "      <td>0.189547</td>\n",
       "      <td>0.171684</td>\n",
       "      <td>92405.876613</td>\n",
       "      <td>233.768353</td>\n",
       "      <td>226.691697</td>\n",
       "      <td>184.682765</td>\n",
       "      <td>8.359907</td>\n",
       "      <td>70.800529</td>\n",
       "      <td>2.900099</td>\n",
       "      <td>18.910685</td>\n",
       "      <td>4.843864</td>\n",
       "      <td>5.404921</td>\n",
       "      <td>0.112869</td>\n",
       "      <td>59.020840</td>\n",
       "      <td>3.893483</td>\n",
       "      <td>2.431355</td>\n",
       "      <td>1.307339</td>\n",
       "      <td>0.653685</td>\n",
       "      <td>15.422792</td>\n",
       "      <td>50768.109825</td>\n",
       "      <td>25906.882898</td>\n",
       "      <td>42.691234</td>\n",
       "      <td>12.283216</td>\n",
       "      <td>5.260782</td>\n",
       "      <td>4.135428</td>\n",
       "      <td>7.273633</td>\n",
       "      <td>5.527851</td>\n",
       "      <td>12.396001</td>\n",
       "      <td>23.403540</td>\n",
       "      <td>13.851571</td>\n",
       "      <td>20.954353</td>\n",
       "      <td>78.691274</td>\n",
       "      <td>8.187244</td>\n",
       "      <td>8.484433</td>\n",
       "      <td>21.308726</td>\n",
       "      <td>29.067678</td>\n",
       "      <td>193.042673</td>\n",
       "      <td>3.630255</td>\n",
       "    </tr>\n",
       "    <tr>\n",
       "      <th>1</th>\n",
       "      <td>26743.466102</td>\n",
       "      <td>0.237288</td>\n",
       "      <td>0.000000</td>\n",
       "      <td>0.406780</td>\n",
       "      <td>0.144068</td>\n",
       "      <td>0.237288</td>\n",
       "      <td>414376.881356</td>\n",
       "      <td>910.672373</td>\n",
       "      <td>926.330508</td>\n",
       "      <td>591.872881</td>\n",
       "      <td>22.288136</td>\n",
       "      <td>177.135593</td>\n",
       "      <td>6.940678</td>\n",
       "      <td>30.796610</td>\n",
       "      <td>14.677966</td>\n",
       "      <td>7.981410</td>\n",
       "      <td>0.011802</td>\n",
       "      <td>250.745763</td>\n",
       "      <td>11.186441</td>\n",
       "      <td>4.883353</td>\n",
       "      <td>1.941357</td>\n",
       "      <td>0.985036</td>\n",
       "      <td>14.236441</td>\n",
       "      <td>59350.483051</td>\n",
       "      <td>29271.262712</td>\n",
       "      <td>47.294797</td>\n",
       "      <td>12.625072</td>\n",
       "      <td>1.459310</td>\n",
       "      <td>4.079661</td>\n",
       "      <td>6.135296</td>\n",
       "      <td>4.995810</td>\n",
       "      <td>10.650547</td>\n",
       "      <td>24.044576</td>\n",
       "      <td>12.729013</td>\n",
       "      <td>27.728777</td>\n",
       "      <td>68.599576</td>\n",
       "      <td>10.866695</td>\n",
       "      <td>15.496780</td>\n",
       "      <td>31.400424</td>\n",
       "      <td>37.014021</td>\n",
       "      <td>614.161017</td>\n",
       "      <td>6.549314</td>\n",
       "    </tr>\n",
       "  </tbody>\n",
       "</table>\n",
       "</div>"
      ],
      "text/plain": [
       "           countyfips  Northeast     Other     South      West   coastal  \\\n",
       "at_risk                                                                    \n",
       "0        30530.827655   0.071783  0.010916  0.445253  0.189547  0.171684   \n",
       "1        26743.466102   0.237288  0.000000  0.406780  0.144068  0.237288   \n",
       "\n",
       "            population  ppl_popdensity  county_beds  total_cases  \\\n",
       "at_risk                                                            \n",
       "0         92405.876613      233.768353   226.691697   184.682765   \n",
       "1        414376.881356      910.672373   926.330508   591.872881   \n",
       "\n",
       "         total_deaths  tot_cases_percap  tot_deaths_percap  days_since_case1  \\\n",
       "at_risk                                                                        \n",
       "0            8.359907         70.800529           2.900099         18.910685   \n",
       "1           22.288136        177.135593           6.940678         30.796610   \n",
       "\n",
       "         days_since_death1  county_hospitalizations  county_testing_rate  \\\n",
       "at_risk                                                                    \n",
       "0                 4.843864                 5.404921             0.112869   \n",
       "1                14.677966                 7.981410             0.011802   \n",
       "\n",
       "         cases_wk_before  deaths_wk_before  pcnt_inc_wk10  pcnt_inc_wk11  \\\n",
       "at_risk                                                                    \n",
       "0              59.020840          3.893483       2.431355       1.307339   \n",
       "1             250.745763         11.186441       4.883353       1.941357   \n",
       "\n",
       "         pcnt_inc_wk12  inc_pov_rate    inc_med_hh   inc_per_cap  jobs_serv  \\\n",
       "at_risk                                                                       \n",
       "0             0.653685     15.422792  50768.109825  25906.882898  42.691234   \n",
       "1             0.985036     14.236441  59350.483051  29271.262712  47.294797   \n",
       "\n",
       "         jobs_manu  jobs_agro  jobs_unem  jobs_const  jobs_trans  \\\n",
       "at_risk                                                            \n",
       "0        12.283216   5.260782   4.135428    7.273633    5.527851   \n",
       "1        12.625072   1.459310   4.079661    6.135296    4.995810   \n",
       "\n",
       "         ppl_ov65_pct  ppl_un18_pct  ppl_nohs_pct  ppl_college_pct  \\\n",
       "at_risk                                                              \n",
       "0           12.396001     23.403540     13.851571        20.954353   \n",
       "1           10.650547     24.044576     12.729013        27.728777   \n",
       "\n",
       "         ppl_wht_pct  ppl_hisp_pct  ppl_bl_pct  ppl_non_wht  \\\n",
       "at_risk                                                       \n",
       "0          78.691274      8.187244    8.484433    21.308726   \n",
       "1          68.599576     10.866695   15.496780    31.400424   \n",
       "\n",
       "         pct_at_risk_group  cases_deaths  cases_per_day  \n",
       "at_risk                                                  \n",
       "0                29.067678    193.042673       3.630255  \n",
       "1                37.014021    614.161017       6.549314  "
      ]
     },
     "execution_count": 54,
     "metadata": {},
     "output_type": "execute_result"
    }
   ],
   "source": [
    "new_df.groupby('at_risk').mean()"
   ]
  },
  {
   "cell_type": "code",
   "execution_count": 68,
   "metadata": {},
   "outputs": [],
   "source": [
    "mini_df = new_df[['ppl_popdensity', 'total_cases', 'total_deaths', 'cases_wk_before', 'days_since_case1',\n",
    "                   'inc_med_hh', 'ppl_bl_pct', 'ppl_hisp_pct',  'at_risk']]"
   ]
  },
  {
   "cell_type": "code",
   "execution_count": 69,
   "metadata": {},
   "outputs": [
    {
     "data": {
      "text/html": [
       "<div>\n",
       "<style scoped>\n",
       "    .dataframe tbody tr th:only-of-type {\n",
       "        vertical-align: middle;\n",
       "    }\n",
       "\n",
       "    .dataframe tbody tr th {\n",
       "        vertical-align: top;\n",
       "    }\n",
       "\n",
       "    .dataframe thead th {\n",
       "        text-align: right;\n",
       "    }\n",
       "</style>\n",
       "<table border=\"1\" class=\"dataframe\">\n",
       "  <thead>\n",
       "    <tr style=\"text-align: right;\">\n",
       "      <th></th>\n",
       "      <th>ppl_popdensity</th>\n",
       "      <th>total_cases</th>\n",
       "      <th>total_deaths</th>\n",
       "      <th>cases_wk_before</th>\n",
       "      <th>days_since_case1</th>\n",
       "      <th>inc_med_hh</th>\n",
       "      <th>ppl_bl_pct</th>\n",
       "      <th>ppl_hisp_pct</th>\n",
       "    </tr>\n",
       "    <tr>\n",
       "      <th>at_risk</th>\n",
       "      <th></th>\n",
       "      <th></th>\n",
       "      <th></th>\n",
       "      <th></th>\n",
       "      <th></th>\n",
       "      <th></th>\n",
       "      <th></th>\n",
       "      <th></th>\n",
       "    </tr>\n",
       "  </thead>\n",
       "  <tbody>\n",
       "    <tr>\n",
       "      <th>0</th>\n",
       "      <td>233.768353</td>\n",
       "      <td>184.682765</td>\n",
       "      <td>8.359907</td>\n",
       "      <td>59.020840</td>\n",
       "      <td>18.910685</td>\n",
       "      <td>50768.109825</td>\n",
       "      <td>8.484433</td>\n",
       "      <td>8.187244</td>\n",
       "    </tr>\n",
       "    <tr>\n",
       "      <th>1</th>\n",
       "      <td>910.672373</td>\n",
       "      <td>591.872881</td>\n",
       "      <td>22.288136</td>\n",
       "      <td>250.745763</td>\n",
       "      <td>30.796610</td>\n",
       "      <td>59350.483051</td>\n",
       "      <td>15.496780</td>\n",
       "      <td>10.866695</td>\n",
       "    </tr>\n",
       "  </tbody>\n",
       "</table>\n",
       "</div>"
      ],
      "text/plain": [
       "         ppl_popdensity  total_cases  total_deaths  cases_wk_before  \\\n",
       "at_risk                                                               \n",
       "0            233.768353   184.682765      8.359907        59.020840   \n",
       "1            910.672373   591.872881     22.288136       250.745763   \n",
       "\n",
       "         days_since_case1    inc_med_hh  ppl_bl_pct  ppl_hisp_pct  \n",
       "at_risk                                                            \n",
       "0               18.910685  50768.109825    8.484433      8.187244  \n",
       "1               30.796610  59350.483051   15.496780     10.866695  "
      ]
     },
     "execution_count": 69,
     "metadata": {},
     "output_type": "execute_result"
    }
   ],
   "source": [
    "mini_df.groupby('at_risk').mean().head()"
   ]
  },
  {
   "cell_type": "code",
   "execution_count": 164,
   "metadata": {},
   "outputs": [],
   "source": [
    "X_mini, y_mini = mini_df.drop('at_risk', axis=1), mini_df.at_risk"
   ]
  },
  {
   "cell_type": "code",
   "execution_count": 165,
   "metadata": {},
   "outputs": [
    {
     "data": {
      "text/plain": [
       "Pipeline(memory=None,\n",
       "         steps=[('under_sample',\n",
       "                 RandomUnderSampler(random_state=None, replacement=False,\n",
       "                                    sampling_strategy='auto')),\n",
       "                ('model',\n",
       "                 RandomForestClassifier(bootstrap=True, ccp_alpha=0.0,\n",
       "                                        class_weight=None, criterion='gini',\n",
       "                                        max_depth=None, max_features='auto',\n",
       "                                        max_leaf_nodes=None, max_samples=None,\n",
       "                                        min_impurity_decrease=0.0,\n",
       "                                        min_impurity_split=None,\n",
       "                                        min_samples_leaf=1, min_samples_split=2,\n",
       "                                        min_weight_fraction_leaf=0.0,\n",
       "                                        n_estimators=120, n_jobs=None,\n",
       "                                        oob_score=False, random_state=None,\n",
       "                                        verbose=0, warm_start=False))],\n",
       "         verbose=False)"
      ]
     },
     "execution_count": 165,
     "metadata": {},
     "output_type": "execute_result"
    }
   ],
   "source": [
    "rf_pipe.fit(X_mini, y_mini)"
   ]
  },
  {
   "cell_type": "code",
   "execution_count": 166,
   "metadata": {},
   "outputs": [],
   "source": [
    "fn = 'rf_model.sav'"
   ]
  },
  {
   "cell_type": "code",
   "execution_count": 167,
   "metadata": {},
   "outputs": [],
   "source": [
    "pickle.dump(rf_pipe, open(fn, 'wb'))"
   ]
  }
 ],
 "metadata": {
  "kernelspec": {
   "display_name": "Python 3",
   "language": "python",
   "name": "python3"
  },
  "language_info": {
   "codemirror_mode": {
    "name": "ipython",
    "version": 3
   },
   "file_extension": ".py",
   "mimetype": "text/x-python",
   "name": "python",
   "nbconvert_exporter": "python",
   "pygments_lexer": "ipython3",
   "version": "3.7.4"
  },
  "toc": {
   "base_numbering": 1,
   "nav_menu": {},
   "number_sections": true,
   "sideBar": true,
   "skip_h1_title": false,
   "title_cell": "Table of Contents",
   "title_sidebar": "Contents",
   "toc_cell": false,
   "toc_position": {},
   "toc_section_display": true,
   "toc_window_display": false
  }
 },
 "nbformat": 4,
 "nbformat_minor": 4
}
